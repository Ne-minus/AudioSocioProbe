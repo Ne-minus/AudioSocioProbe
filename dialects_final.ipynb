{
 "cells": [
  {
   "cell_type": "code",
   "execution_count": 85,
   "id": "1fe07eeb",
   "metadata": {},
   "outputs": [],
   "source": [
    "import pandas as pd\n",
    "import numpy as np\n",
    "import matplotlib.pyplot as plt\n",
    "from sklearn import metrics\n",
    "from sklearn.model_selection import train_test_split\n",
    "from catboost import CatBoostClassifier\n",
    "from sklearn.metrics import f1_score, accuracy_score\n",
    "from sklearn.neural_network import MLPClassifier\n",
    "from sklearn.datasets import make_classification\n",
    "from sklearn.model_selection import train_test_split"
   ]
  },
  {
   "cell_type": "code",
   "execution_count": 86,
   "id": "25580e46",
   "metadata": {},
   "outputs": [],
   "source": [
    "df_dial = pd.read_csv('data.csv', index_col=0)"
   ]
  },
  {
   "cell_type": "code",
   "execution_count": 87,
   "id": "7a993a3e",
   "metadata": {},
   "outputs": [],
   "source": [
    "df_standart = pd.read_csv('standart_data.csv', index_col=0)"
   ]
  },
  {
   "cell_type": "code",
   "execution_count": 88,
   "id": "d5c9b65b",
   "metadata": {},
   "outputs": [],
   "source": [
    "def age_groups(age):\n",
    "    if age < 25:\n",
    "        return 'young'\n",
    "    elif 40 < age < 46:\n",
    "        return 'middle'\n",
    "    else:\n",
    "        return 'elderly'"
   ]
  },
  {
   "cell_type": "code",
   "execution_count": 89,
   "id": "976a3b05",
   "metadata": {},
   "outputs": [],
   "source": [
    "df_standart['age_group'] = df_standart['age'].apply(age_groups)\n",
    "df_standart = df_standart.sample(frac=1)"
   ]
  },
  {
   "cell_type": "code",
   "execution_count": 90,
   "id": "8e4d0217",
   "metadata": {},
   "outputs": [],
   "source": [
    "df_int = df_dial[df_dial['informant'] == 'Interviewer']\n",
    "df_last = pd.concat([df_standart, df_int])\n",
    "df_last = df_last.sample(frac=1).head(1207)"
   ]
  },
  {
   "cell_type": "code",
   "execution_count": 91,
   "id": "15249ca4",
   "metadata": {},
   "outputs": [],
   "source": [
    "df_opochka = df_dial[df_dial['corpus'] == 'opochka'].sample(frac=1).head(1207)\n",
    "df_don = df_dial[df_dial['corpus'] == 'don_rnd'].sample(frac=1).head(1207)\n",
    "df_keba = df_dial[df_dial['corpus'] == 'keba'].sample(frac=1).head(1207)"
   ]
  },
  {
   "cell_type": "code",
   "execution_count": 92,
   "id": "843fe0d3",
   "metadata": {},
   "outputs": [],
   "source": [
    "df_last = pd.concat([df_last, df_opochka, df_keba, df_don]).sample(frac=1)"
   ]
  },
  {
   "cell_type": "code",
   "execution_count": 93,
   "id": "b4851b28",
   "metadata": {},
   "outputs": [],
   "source": [
    "df_last.to_csv('total.csv')"
   ]
  },
  {
   "cell_type": "code",
   "execution_count": 94,
   "id": "fd4db0ff",
   "metadata": {},
   "outputs": [],
   "source": [
    "df_last = pd.read_csv('total.csv')"
   ]
  },
  {
   "cell_type": "code",
   "execution_count": 128,
   "id": "b182edff",
   "metadata": {},
   "outputs": [
    {
     "name": "stdout",
     "output_type": "stream",
     "text": [
      "288.73339999999996\n"
     ]
    }
   ],
   "source": [
    "df_last['difference'] = (df_last['end']*1000 -  df_last['start']*1000)\n",
    "timing = (sum(df_last['difference'])/1000)/60\n",
    "print(timing)"
   ]
  },
  {
   "cell_type": "code",
   "execution_count": 14,
   "id": "545245e8",
   "metadata": {
    "scrolled": true
   },
   "outputs": [
    {
     "name": "stdout",
     "output_type": "stream",
     "text": [
      "\u001b[31mERROR: torch-1.0.1-cp36-cp36m-win_amd64.whl is not a supported wheel on this platform.\u001b[0m\u001b[31m\n",
      "\u001b[0mRequirement already satisfied: torchvision in /Users/eneminova/miniconda3/lib/python3.10/site-packages (0.15.2)\n",
      "Requirement already satisfied: numpy in /Users/eneminova/miniconda3/lib/python3.10/site-packages (from torchvision) (1.23.5)\n",
      "Requirement already satisfied: requests in /Users/eneminova/miniconda3/lib/python3.10/site-packages (from torchvision) (2.28.1)\n",
      "Requirement already satisfied: torch==2.0.1 in /Users/eneminova/miniconda3/lib/python3.10/site-packages (from torchvision) (2.0.1)\n",
      "Requirement already satisfied: pillow!=8.3.*,>=5.3.0 in /Users/eneminova/miniconda3/lib/python3.10/site-packages (from torchvision) (9.4.0)\n",
      "Requirement already satisfied: filelock in /Users/eneminova/miniconda3/lib/python3.10/site-packages (from torch==2.0.1->torchvision) (3.12.0)\n",
      "Requirement already satisfied: typing-extensions in /Users/eneminova/miniconda3/lib/python3.10/site-packages (from torch==2.0.1->torchvision) (4.5.0)\n",
      "Requirement already satisfied: sympy in /Users/eneminova/miniconda3/lib/python3.10/site-packages (from torch==2.0.1->torchvision) (1.11.1)\n",
      "Requirement already satisfied: networkx in /Users/eneminova/miniconda3/lib/python3.10/site-packages (from torch==2.0.1->torchvision) (3.1)\n",
      "Requirement already satisfied: jinja2 in /Users/eneminova/miniconda3/lib/python3.10/site-packages (from torch==2.0.1->torchvision) (3.1.2)\n",
      "Requirement already satisfied: charset-normalizer<3,>=2 in /Users/eneminova/miniconda3/lib/python3.10/site-packages (from requests->torchvision) (2.0.4)\n",
      "Requirement already satisfied: idna<4,>=2.5 in /Users/eneminova/miniconda3/lib/python3.10/site-packages (from requests->torchvision) (3.4)\n",
      "Requirement already satisfied: urllib3<1.27,>=1.21.1 in /Users/eneminova/miniconda3/lib/python3.10/site-packages (from requests->torchvision) (1.26.14)\n",
      "Requirement already satisfied: certifi>=2017.4.17 in /Users/eneminova/miniconda3/lib/python3.10/site-packages (from requests->torchvision) (2022.12.7)\n",
      "Requirement already satisfied: MarkupSafe>=2.0 in /Users/eneminova/miniconda3/lib/python3.10/site-packages (from jinja2->torch==2.0.1->torchvision) (2.1.2)\n",
      "Requirement already satisfied: mpmath>=0.19 in /Users/eneminova/miniconda3/lib/python3.10/site-packages (from sympy->torch==2.0.1->torchvision) (1.3.0)\n"
     ]
    }
   ],
   "source": [
    "!pip3 install https://download.pytorch.org/whl/cpu/torch-1.0.1-cp36-cp36m-win_amd64.whl\n",
    "!pip3 install torchvision"
   ]
  },
  {
   "cell_type": "code",
   "execution_count": 13,
   "id": "512c0d07",
   "metadata": {
    "scrolled": true
   },
   "outputs": [
    {
     "name": "stdout",
     "output_type": "stream",
     "text": [
      "Requirement already satisfied: transformers in /Users/eneminova/miniconda3/lib/python3.10/site-packages (4.28.1)\n",
      "Requirement already satisfied: filelock in /Users/eneminova/miniconda3/lib/python3.10/site-packages (from transformers) (3.12.0)\n",
      "Requirement already satisfied: huggingface-hub<1.0,>=0.11.0 in /Users/eneminova/miniconda3/lib/python3.10/site-packages (from transformers) (0.14.1)\n",
      "Requirement already satisfied: numpy>=1.17 in /Users/eneminova/miniconda3/lib/python3.10/site-packages (from transformers) (1.23.5)\n",
      "Requirement already satisfied: packaging>=20.0 in /Users/eneminova/miniconda3/lib/python3.10/site-packages (from transformers) (23.0)\n",
      "Requirement already satisfied: pyyaml>=5.1 in /Users/eneminova/miniconda3/lib/python3.10/site-packages (from transformers) (6.0)\n",
      "Requirement already satisfied: regex!=2019.12.17 in /Users/eneminova/miniconda3/lib/python3.10/site-packages (from transformers) (2023.3.23)\n",
      "Requirement already satisfied: requests in /Users/eneminova/miniconda3/lib/python3.10/site-packages (from transformers) (2.28.1)\n",
      "Requirement already satisfied: tokenizers!=0.11.3,<0.14,>=0.11.1 in /Users/eneminova/miniconda3/lib/python3.10/site-packages (from transformers) (0.13.3)\n",
      "Requirement already satisfied: tqdm>=4.27 in /Users/eneminova/miniconda3/lib/python3.10/site-packages (from transformers) (4.64.1)\n",
      "Requirement already satisfied: fsspec in /Users/eneminova/miniconda3/lib/python3.10/site-packages (from huggingface-hub<1.0,>=0.11.0->transformers) (2023.5.0)\n",
      "Requirement already satisfied: typing-extensions>=3.7.4.3 in /Users/eneminova/miniconda3/lib/python3.10/site-packages (from huggingface-hub<1.0,>=0.11.0->transformers) (4.5.0)\n",
      "Requirement already satisfied: charset-normalizer<3,>=2 in /Users/eneminova/miniconda3/lib/python3.10/site-packages (from requests->transformers) (2.0.4)\n",
      "Requirement already satisfied: idna<4,>=2.5 in /Users/eneminova/miniconda3/lib/python3.10/site-packages (from requests->transformers) (3.4)\n",
      "Requirement already satisfied: urllib3<1.27,>=1.21.1 in /Users/eneminova/miniconda3/lib/python3.10/site-packages (from requests->transformers) (1.26.14)\n",
      "Requirement already satisfied: certifi>=2017.4.17 in /Users/eneminova/miniconda3/lib/python3.10/site-packages (from requests->transformers) (2022.12.7)\n"
     ]
    }
   ],
   "source": [
    "!pip install transformers"
   ]
  },
  {
   "cell_type": "code",
   "execution_count": 96,
   "id": "48ac230e",
   "metadata": {},
   "outputs": [],
   "source": [
    "import librosa\n",
    "import torch\n",
    "from transformers import Wav2Vec2FeatureExtractor, Wav2Vec2Model\n",
    "from tqdm.notebook import tqdm"
   ]
  },
  {
   "cell_type": "code",
   "execution_count": 97,
   "id": "e1be7fae",
   "metadata": {
    "scrolled": true
   },
   "outputs": [
    {
     "name": "stderr",
     "output_type": "stream",
     "text": [
      "Some weights of the model checkpoint at facebook/wav2vec2-large-xlsr-53 were not used when initializing Wav2Vec2Model: ['project_hid.bias', 'quantizer.weight_proj.weight', 'quantizer.weight_proj.bias', 'quantizer.codevectors', 'project_q.bias', 'project_q.weight', 'project_hid.weight']\n",
      "- This IS expected if you are initializing Wav2Vec2Model from the checkpoint of a model trained on another task or with another architecture (e.g. initializing a BertForSequenceClassification model from a BertForPreTraining model).\n",
      "- This IS NOT expected if you are initializing Wav2Vec2Model from the checkpoint of a model that you expect to be exactly identical (initializing a BertForSequenceClassification model from a BertForSequenceClassification model).\n"
     ]
    }
   ],
   "source": [
    "model_name = \"facebook/wav2vec2-large-xlsr-53\"\n",
    "feature_extractor = Wav2Vec2FeatureExtractor.from_pretrained(model_name, device='cuda')\n",
    "model_w2v = Wav2Vec2Model.from_pretrained(model_name)"
   ]
  },
  {
   "cell_type": "code",
   "execution_count": 98,
   "id": "4c89f5eb",
   "metadata": {},
   "outputs": [],
   "source": [
    "files = list(df_last['filename'])"
   ]
  },
  {
   "cell_type": "code",
   "execution_count": 99,
   "id": "27290c38",
   "metadata": {},
   "outputs": [
    {
     "data": {
      "application/vnd.jupyter.widget-view+json": {
       "model_id": "b04fe9a46b8d4de1b08f4c86e5bfb819",
       "version_major": 2,
       "version_minor": 0
      },
      "text/plain": [
       "  0%|          | 0/4828 [00:00<?, ?it/s]"
      ]
     },
     "metadata": {},
     "output_type": "display_data"
    }
   ],
   "source": [
    "massivix = []\n",
    "for i in tqdm(files):\n",
    "    try:\n",
    "        input_audio, sample_rate = librosa.load(i,  sr=16000)\n",
    "        massivix.append(input_audio)\n",
    "    except:\n",
    "        print(i)"
   ]
  },
  {
   "cell_type": "code",
   "execution_count": 100,
   "id": "58147b0c",
   "metadata": {},
   "outputs": [],
   "source": [
    "vectors = b.input_values"
   ]
  },
  {
   "cell_type": "code",
   "execution_count": 44,
   "id": "9622eaa2",
   "metadata": {},
   "outputs": [],
   "source": [
    "torch.save(vectors, 'vectors.pth')"
   ]
  },
  {
   "cell_type": "code",
   "execution_count": 45,
   "id": "a2cdc986",
   "metadata": {},
   "outputs": [],
   "source": [
    "vectors = torch.load('vectors.pth', map_location=torch.device('cpu'))"
   ]
  },
  {
   "cell_type": "code",
   "execution_count": 47,
   "id": "ee1a50ba",
   "metadata": {},
   "outputs": [],
   "source": [
    "from torch.utils.data import DataLoader, Dataset"
   ]
  },
  {
   "cell_type": "code",
   "execution_count": 48,
   "id": "4e098542",
   "metadata": {},
   "outputs": [],
   "source": [
    "class VectorsDataset(Dataset):\n",
    "    def __init__(self, X, paths):\n",
    "        self.X = torch.tensor(X)\n",
    "        self.paths = paths\n",
    "    \n",
    "    def __len__(self):\n",
    "        return self.X.shape[0]\n",
    "    \n",
    "    def __getitem__(self, idx):\n",
    "        return self.X[idx], self.paths[idx]"
   ]
  },
  {
   "cell_type": "code",
   "execution_count": 102,
   "id": "1be92e5e",
   "metadata": {
    "scrolled": true
   },
   "outputs": [
    {
     "name": "stderr",
     "output_type": "stream",
     "text": [
      "/var/folders/tl/xqt8rvfj2_x_0216w6nc9xyh0000gn/T/ipykernel_69134/832104874.py:3: UserWarning: To copy construct from a tensor, it is recommended to use sourceTensor.clone().detach() or sourceTensor.clone().detach().requires_grad_(True), rather than torch.tensor(sourceTensor).\n",
      "  self.X = torch.tensor(X)\n"
     ]
    }
   ],
   "source": [
    "dataset = VectorsDataset(X=vectors, paths=files)"
   ]
  },
  {
   "cell_type": "code",
   "execution_count": 103,
   "id": "b6deabb1",
   "metadata": {},
   "outputs": [],
   "source": [
    "dataloader = DataLoader(dataset, 64, True)"
   ]
  },
  {
   "cell_type": "code",
   "execution_count": 104,
   "id": "44291205",
   "metadata": {},
   "outputs": [],
   "source": [
    "! rm -r predictions_dials"
   ]
  },
  {
   "cell_type": "code",
   "execution_count": 105,
   "id": "597b81a2",
   "metadata": {},
   "outputs": [],
   "source": [
    "!mkdir predictions_dials"
   ]
  },
  {
   "cell_type": "code",
   "execution_count": 106,
   "id": "1cd597bc",
   "metadata": {
    "scrolled": true
   },
   "outputs": [
    {
     "data": {
      "application/vnd.jupyter.widget-view+json": {
       "model_id": "1b0aae734cf84574b967363b60a576ed",
       "version_major": 2,
       "version_minor": 0
      },
      "text/plain": [
       "  0%|          | 0/76 [00:00<?, ?it/s]"
      ]
     },
     "metadata": {},
     "output_type": "display_data"
    }
   ],
   "source": [
    "path2vec = {}\n",
    "for vector, paths in tqdm(dataloader):\n",
    "    predict = model_w2v(vector.to('cpu')).extract_features\n",
    "    for i in range(len(predict)):\n",
    "        filename = 'predictions_dials/' + paths[i].replace('.wav', '.pth').replace('/', '_')\n",
    "        torch.save(predict[i], filename)\n",
    "        path2vec[paths[i]] = filename\n",
    "        # print(predict[i].shape)\n"
   ]
  },
  {
   "cell_type": "code",
   "execution_count": 30,
   "id": "383f177e-efe4-4828-bc74-9522c41f5131",
   "metadata": {},
   "outputs": [],
   "source": [
    "import pickle\n",
    "\n",
    "with open('data_standart.pickle', 'wb') as f:\n",
    "     pickle.dump(path2vec, f)\n",
    "\n",
    "with open('data_standart.pickle', 'rb') as f:\n",
    "     path2vec = pickle.load(f)"
   ]
  },
  {
   "cell_type": "code",
   "execution_count": 107,
   "id": "7f48d2bb",
   "metadata": {},
   "outputs": [],
   "source": [
    "items = path2vec.items()"
   ]
  },
  {
   "cell_type": "code",
   "execution_count": 108,
   "id": "d8216898",
   "metadata": {
    "scrolled": true
   },
   "outputs": [
    {
     "data": {
      "application/vnd.jupyter.widget-view+json": {
       "model_id": "b67b39997528420f945d74e302c921a7",
       "version_major": 2,
       "version_minor": 0
      },
      "text/plain": [
       "  0%|          | 0/4828 [00:00<?, ?it/s]"
      ]
     },
     "metadata": {},
     "output_type": "display_data"
    }
   ],
   "source": [
    "X = []\n",
    "Y = []\n",
    "for item in tqdm(items):\n",
    "    vector = torch.load(item[1]).detach().tolist()\n",
    "    targets = df_last[df_last['filename'] == item[0]]\n",
    "    target = targets['corpus'].to_list()[0]\n",
    "    X.append(sum(np.array(vector)))\n",
    "    Y.append(target)"
   ]
  },
  {
   "cell_type": "code",
   "execution_count": 111,
   "id": "c9629b50-3b79-4398-912e-b7961d3bb4bf",
   "metadata": {},
   "outputs": [],
   "source": [
    "X_train, X_test, y_train, y_test = train_test_split(X, Y, test_size=0.33, random_state=42)"
   ]
  },
  {
   "cell_type": "code",
   "execution_count": 112,
   "id": "117fcd47-26a3-456c-b8f5-4103f48e95c1",
   "metadata": {},
   "outputs": [],
   "source": [
    "def accuracy(dct, y_test, y_pred):\n",
    "    total = len(y_test)\n",
    "    count = 0\n",
    "    for i in range(len(y_test)):\n",
    "        dct[y_test[i]][y_pred[i]] += 1\n",
    "\n",
    "    return dct"
   ]
  },
  {
   "cell_type": "code",
   "execution_count": 117,
   "id": "0b1e5a84-5aa3-4f79-b8b4-5b1717ce8ede",
   "metadata": {},
   "outputs": [],
   "source": [
    "dct = {\n",
    "    'don_rnd': {\n",
    "        'don_rnd': 0,\n",
    "        'keba': 0,\n",
    "        'opochka': 0,\n",
    "        'standart': 0\n",
    "    },\n",
    "    'keba': {\n",
    "        'don_rnd': 0,\n",
    "        'keba': 0,\n",
    "        'opochka': 0,\n",
    "        'standart': 0\n",
    "    },\n",
    "    'opochka': {\n",
    "        'don_rnd': 0,\n",
    "        'keba': 0,\n",
    "        'opochka': 0,\n",
    "        'standart': 0\n",
    "    },\n",
    "    'standart': {\n",
    "        'don_rnd': 0,\n",
    "        'keba': 0,\n",
    "        'opochka': 0,\n",
    "        'standart': 0\n",
    "    }\n",
    "}"
   ]
  },
  {
   "cell_type": "code",
   "execution_count": null,
   "id": "5444376c",
   "metadata": {},
   "outputs": [],
   "source": [
    "!pip install --upgrade pip"
   ]
  },
  {
   "cell_type": "code",
   "execution_count": null,
   "id": "64fa1939",
   "metadata": {},
   "outputs": [],
   "source": [
    "!pip install cmake"
   ]
  },
  {
   "cell_type": "code",
   "execution_count": null,
   "id": "03e3b68d",
   "metadata": {
    "scrolled": true
   },
   "outputs": [],
   "source": [
    "!pip install catboost==1.1.1"
   ]
  },
  {
   "cell_type": "code",
   "execution_count": 114,
   "id": "3a600344-3df0-4f9a-a3d4-7fdd6bf08add",
   "metadata": {
    "scrolled": true,
    "tags": []
   },
   "outputs": [
    {
     "name": "stdout",
     "output_type": "stream",
     "text": [
      "Learning rate set to 0.327303\n",
      "0:\tlearn: 1.1629381\ttotal: 249ms\tremaining: 49.6s\n",
      "1:\tlearn: 1.0162435\ttotal: 397ms\tremaining: 39.3s\n",
      "2:\tlearn: 0.9257551\ttotal: 571ms\tremaining: 37.5s\n",
      "3:\tlearn: 0.8627892\ttotal: 737ms\tremaining: 36.1s\n",
      "4:\tlearn: 0.8195276\ttotal: 910ms\tremaining: 35.5s\n",
      "5:\tlearn: 0.7661415\ttotal: 1.06s\tremaining: 34.4s\n",
      "6:\tlearn: 0.7376751\ttotal: 1.25s\tremaining: 34.3s\n",
      "7:\tlearn: 0.7076638\ttotal: 1.41s\tremaining: 33.8s\n",
      "8:\tlearn: 0.6793320\ttotal: 1.58s\tremaining: 33.5s\n",
      "9:\tlearn: 0.6600969\ttotal: 1.73s\tremaining: 32.9s\n",
      "10:\tlearn: 0.6364364\ttotal: 1.9s\tremaining: 32.7s\n",
      "11:\tlearn: 0.6159285\ttotal: 2.19s\tremaining: 34.4s\n",
      "12:\tlearn: 0.6026807\ttotal: 2.36s\tremaining: 34s\n",
      "13:\tlearn: 0.5861103\ttotal: 2.55s\tremaining: 33.8s\n",
      "14:\tlearn: 0.5737912\ttotal: 2.7s\tremaining: 33.3s\n",
      "15:\tlearn: 0.5578219\ttotal: 2.88s\tremaining: 33.1s\n",
      "16:\tlearn: 0.5469504\ttotal: 3.03s\tremaining: 32.7s\n",
      "17:\tlearn: 0.5372820\ttotal: 3.21s\tremaining: 32.5s\n",
      "18:\tlearn: 0.5280510\ttotal: 3.38s\tremaining: 32.2s\n",
      "19:\tlearn: 0.5182077\ttotal: 3.54s\tremaining: 31.9s\n",
      "20:\tlearn: 0.5072700\ttotal: 3.73s\tremaining: 31.8s\n",
      "21:\tlearn: 0.5006258\ttotal: 3.95s\tremaining: 31.9s\n",
      "22:\tlearn: 0.4869727\ttotal: 4.16s\tremaining: 32s\n",
      "23:\tlearn: 0.4780284\ttotal: 4.36s\tremaining: 32s\n",
      "24:\tlearn: 0.4734962\ttotal: 4.53s\tremaining: 31.7s\n",
      "25:\tlearn: 0.4689782\ttotal: 4.7s\tremaining: 31.5s\n",
      "26:\tlearn: 0.4602259\ttotal: 4.88s\tremaining: 31.3s\n",
      "27:\tlearn: 0.4505385\ttotal: 5.08s\tremaining: 31.2s\n",
      "28:\tlearn: 0.4411505\ttotal: 5.23s\tremaining: 30.9s\n",
      "29:\tlearn: 0.4379371\ttotal: 5.4s\tremaining: 30.6s\n",
      "30:\tlearn: 0.4331731\ttotal: 5.55s\tremaining: 30.3s\n",
      "31:\tlearn: 0.4271417\ttotal: 5.73s\tremaining: 30.1s\n",
      "32:\tlearn: 0.4204102\ttotal: 5.88s\tremaining: 29.8s\n",
      "33:\tlearn: 0.4161361\ttotal: 6.05s\tremaining: 29.6s\n",
      "34:\tlearn: 0.4113296\ttotal: 6.2s\tremaining: 29.2s\n",
      "35:\tlearn: 0.4055263\ttotal: 6.38s\tremaining: 29.1s\n",
      "36:\tlearn: 0.4012030\ttotal: 6.54s\tremaining: 28.8s\n",
      "37:\tlearn: 0.3933717\ttotal: 6.71s\tremaining: 28.6s\n",
      "38:\tlearn: 0.3867771\ttotal: 6.87s\tremaining: 28.4s\n",
      "39:\tlearn: 0.3830309\ttotal: 7.04s\tremaining: 28.2s\n",
      "40:\tlearn: 0.3784160\ttotal: 7.2s\tremaining: 27.9s\n",
      "41:\tlearn: 0.3749633\ttotal: 7.38s\tremaining: 27.8s\n",
      "42:\tlearn: 0.3705938\ttotal: 7.54s\tremaining: 27.5s\n",
      "43:\tlearn: 0.3642744\ttotal: 7.72s\tremaining: 27.4s\n",
      "44:\tlearn: 0.3600079\ttotal: 7.89s\tremaining: 27.2s\n",
      "45:\tlearn: 0.3576939\ttotal: 8.08s\tremaining: 27s\n",
      "46:\tlearn: 0.3538754\ttotal: 8.34s\tremaining: 27.1s\n",
      "47:\tlearn: 0.3488300\ttotal: 8.6s\tremaining: 27.2s\n",
      "48:\tlearn: 0.3464578\ttotal: 8.81s\tremaining: 27.2s\n",
      "49:\tlearn: 0.3416176\ttotal: 9s\tremaining: 27s\n",
      "50:\tlearn: 0.3397535\ttotal: 9.21s\tremaining: 26.9s\n",
      "51:\tlearn: 0.3352296\ttotal: 9.4s\tremaining: 26.8s\n",
      "52:\tlearn: 0.3321442\ttotal: 9.58s\tremaining: 26.6s\n",
      "53:\tlearn: 0.3302765\ttotal: 9.76s\tremaining: 26.4s\n",
      "54:\tlearn: 0.3287775\ttotal: 9.94s\tremaining: 26.2s\n",
      "55:\tlearn: 0.3258169\ttotal: 10.1s\tremaining: 26s\n",
      "56:\tlearn: 0.3244401\ttotal: 10.3s\tremaining: 25.8s\n",
      "57:\tlearn: 0.3193995\ttotal: 10.5s\tremaining: 25.7s\n",
      "58:\tlearn: 0.3149412\ttotal: 10.7s\tremaining: 25.5s\n",
      "59:\tlearn: 0.3117891\ttotal: 10.8s\tremaining: 25.3s\n",
      "60:\tlearn: 0.3094188\ttotal: 11s\tremaining: 25.1s\n",
      "61:\tlearn: 0.3067760\ttotal: 11.2s\tremaining: 24.9s\n",
      "62:\tlearn: 0.3030561\ttotal: 11.4s\tremaining: 24.9s\n",
      "63:\tlearn: 0.3009408\ttotal: 11.7s\tremaining: 24.8s\n",
      "64:\tlearn: 0.2989728\ttotal: 11.9s\tremaining: 24.7s\n",
      "65:\tlearn: 0.2964264\ttotal: 12.1s\tremaining: 24.6s\n",
      "66:\tlearn: 0.2924828\ttotal: 12.3s\tremaining: 24.5s\n",
      "67:\tlearn: 0.2903544\ttotal: 12.5s\tremaining: 24.3s\n",
      "68:\tlearn: 0.2881201\ttotal: 12.7s\tremaining: 24.2s\n",
      "69:\tlearn: 0.2852293\ttotal: 13s\tremaining: 24.1s\n",
      "70:\tlearn: 0.2823726\ttotal: 13.2s\tremaining: 24s\n",
      "71:\tlearn: 0.2808543\ttotal: 13.4s\tremaining: 23.8s\n",
      "72:\tlearn: 0.2776910\ttotal: 13.6s\tremaining: 23.7s\n",
      "73:\tlearn: 0.2757239\ttotal: 13.9s\tremaining: 23.6s\n",
      "74:\tlearn: 0.2724820\ttotal: 14.1s\tremaining: 23.4s\n",
      "75:\tlearn: 0.2695988\ttotal: 14.3s\tremaining: 23.3s\n",
      "76:\tlearn: 0.2663401\ttotal: 14.5s\tremaining: 23.1s\n",
      "77:\tlearn: 0.2645667\ttotal: 14.7s\tremaining: 23s\n",
      "78:\tlearn: 0.2636403\ttotal: 14.9s\tremaining: 22.8s\n",
      "79:\tlearn: 0.2621091\ttotal: 15.1s\tremaining: 22.6s\n",
      "80:\tlearn: 0.2583042\ttotal: 15.3s\tremaining: 22.5s\n",
      "81:\tlearn: 0.2574775\ttotal: 15.6s\tremaining: 22.4s\n",
      "82:\tlearn: 0.2562980\ttotal: 15.8s\tremaining: 22.2s\n",
      "83:\tlearn: 0.2525209\ttotal: 16s\tremaining: 22s\n",
      "84:\tlearn: 0.2502305\ttotal: 16.2s\tremaining: 21.9s\n",
      "85:\tlearn: 0.2486503\ttotal: 16.4s\tremaining: 21.7s\n",
      "86:\tlearn: 0.2476204\ttotal: 16.6s\tremaining: 21.5s\n",
      "87:\tlearn: 0.2453474\ttotal: 16.8s\tremaining: 21.3s\n",
      "88:\tlearn: 0.2437143\ttotal: 17s\tremaining: 21.1s\n",
      "89:\tlearn: 0.2421529\ttotal: 17.2s\tremaining: 21s\n",
      "90:\tlearn: 0.2406308\ttotal: 17.3s\tremaining: 20.8s\n",
      "91:\tlearn: 0.2394759\ttotal: 17.5s\tremaining: 20.6s\n",
      "92:\tlearn: 0.2374471\ttotal: 17.7s\tremaining: 20.4s\n",
      "93:\tlearn: 0.2346237\ttotal: 18s\tremaining: 20.3s\n",
      "94:\tlearn: 0.2325775\ttotal: 18.2s\tremaining: 20.1s\n",
      "95:\tlearn: 0.2311988\ttotal: 18.4s\tremaining: 19.9s\n",
      "96:\tlearn: 0.2288222\ttotal: 18.5s\tremaining: 19.7s\n",
      "97:\tlearn: 0.2266659\ttotal: 18.8s\tremaining: 19.5s\n",
      "98:\tlearn: 0.2239434\ttotal: 18.9s\tremaining: 19.3s\n",
      "99:\tlearn: 0.2213279\ttotal: 19.2s\tremaining: 19.2s\n",
      "100:\tlearn: 0.2197810\ttotal: 19.4s\tremaining: 19s\n",
      "101:\tlearn: 0.2176241\ttotal: 19.6s\tremaining: 18.8s\n",
      "102:\tlearn: 0.2148233\ttotal: 19.8s\tremaining: 18.6s\n",
      "103:\tlearn: 0.2128038\ttotal: 20s\tremaining: 18.4s\n",
      "104:\tlearn: 0.2113245\ttotal: 20.2s\tremaining: 18.3s\n",
      "105:\tlearn: 0.2098672\ttotal: 20.4s\tremaining: 18.1s\n",
      "106:\tlearn: 0.2084307\ttotal: 20.6s\tremaining: 17.9s\n",
      "107:\tlearn: 0.2070515\ttotal: 20.8s\tremaining: 17.7s\n",
      "108:\tlearn: 0.2049262\ttotal: 21s\tremaining: 17.6s\n",
      "109:\tlearn: 0.2029056\ttotal: 21.2s\tremaining: 17.4s\n",
      "110:\tlearn: 0.2015729\ttotal: 21.5s\tremaining: 17.2s\n",
      "111:\tlearn: 0.1994654\ttotal: 21.7s\tremaining: 17s\n",
      "112:\tlearn: 0.1986367\ttotal: 21.9s\tremaining: 16.9s\n",
      "113:\tlearn: 0.1968340\ttotal: 22.1s\tremaining: 16.7s\n",
      "114:\tlearn: 0.1954138\ttotal: 22.3s\tremaining: 16.5s\n",
      "115:\tlearn: 0.1940033\ttotal: 22.5s\tremaining: 16.3s\n",
      "116:\tlearn: 0.1931770\ttotal: 22.8s\tremaining: 16.2s\n",
      "117:\tlearn: 0.1924021\ttotal: 23s\tremaining: 16s\n",
      "118:\tlearn: 0.1909350\ttotal: 23.2s\tremaining: 15.8s\n",
      "119:\tlearn: 0.1902238\ttotal: 23.4s\tremaining: 15.6s\n",
      "120:\tlearn: 0.1889887\ttotal: 23.7s\tremaining: 15.4s\n",
      "121:\tlearn: 0.1873903\ttotal: 23.9s\tremaining: 15.3s\n",
      "122:\tlearn: 0.1859567\ttotal: 24.2s\tremaining: 15.1s\n",
      "123:\tlearn: 0.1850469\ttotal: 24.4s\tremaining: 15s\n",
      "124:\tlearn: 0.1837412\ttotal: 24.7s\tremaining: 14.8s\n",
      "125:\tlearn: 0.1831908\ttotal: 25s\tremaining: 14.7s\n",
      "126:\tlearn: 0.1826528\ttotal: 25.3s\tremaining: 14.5s\n",
      "127:\tlearn: 0.1806138\ttotal: 25.7s\tremaining: 14.5s\n",
      "128:\tlearn: 0.1791547\ttotal: 26.1s\tremaining: 14.4s\n",
      "129:\tlearn: 0.1782947\ttotal: 26.4s\tremaining: 14.2s\n",
      "130:\tlearn: 0.1772939\ttotal: 26.7s\tremaining: 14s\n",
      "131:\tlearn: 0.1759472\ttotal: 26.9s\tremaining: 13.9s\n",
      "132:\tlearn: 0.1747504\ttotal: 27.2s\tremaining: 13.7s\n",
      "133:\tlearn: 0.1737013\ttotal: 27.4s\tremaining: 13.5s\n",
      "134:\tlearn: 0.1725918\ttotal: 27.7s\tremaining: 13.3s\n",
      "135:\tlearn: 0.1715060\ttotal: 27.9s\tremaining: 13.1s\n",
      "136:\tlearn: 0.1709297\ttotal: 28.1s\tremaining: 12.9s\n",
      "137:\tlearn: 0.1697974\ttotal: 28.4s\tremaining: 12.7s\n",
      "138:\tlearn: 0.1690030\ttotal: 28.6s\tremaining: 12.6s\n",
      "139:\tlearn: 0.1681860\ttotal: 28.9s\tremaining: 12.4s\n",
      "140:\tlearn: 0.1675974\ttotal: 29.1s\tremaining: 12.2s\n",
      "141:\tlearn: 0.1666520\ttotal: 29.4s\tremaining: 12s\n",
      "142:\tlearn: 0.1652857\ttotal: 29.6s\tremaining: 11.8s\n",
      "143:\tlearn: 0.1642052\ttotal: 29.9s\tremaining: 11.6s\n",
      "144:\tlearn: 0.1625702\ttotal: 30.2s\tremaining: 11.4s\n",
      "145:\tlearn: 0.1618195\ttotal: 30.5s\tremaining: 11.3s\n",
      "146:\tlearn: 0.1604752\ttotal: 30.8s\tremaining: 11.1s\n",
      "147:\tlearn: 0.1594738\ttotal: 31.1s\tremaining: 10.9s\n",
      "148:\tlearn: 0.1578818\ttotal: 31.4s\tremaining: 10.7s\n",
      "149:\tlearn: 0.1567821\ttotal: 31.7s\tremaining: 10.6s\n",
      "150:\tlearn: 0.1556071\ttotal: 32s\tremaining: 10.4s\n",
      "151:\tlearn: 0.1545939\ttotal: 32.3s\tremaining: 10.2s\n",
      "152:\tlearn: 0.1533243\ttotal: 32.5s\tremaining: 9.99s\n",
      "153:\tlearn: 0.1524403\ttotal: 32.8s\tremaining: 9.8s\n",
      "154:\tlearn: 0.1514213\ttotal: 33.1s\tremaining: 9.6s\n",
      "155:\tlearn: 0.1506045\ttotal: 33.4s\tremaining: 9.43s\n",
      "156:\tlearn: 0.1499824\ttotal: 33.8s\tremaining: 9.25s\n",
      "157:\tlearn: 0.1492479\ttotal: 34.1s\tremaining: 9.06s\n",
      "158:\tlearn: 0.1485935\ttotal: 34.5s\tremaining: 8.88s\n",
      "159:\tlearn: 0.1473225\ttotal: 34.9s\tremaining: 8.72s\n",
      "160:\tlearn: 0.1462619\ttotal: 35.4s\tremaining: 8.57s\n"
     ]
    },
    {
     "name": "stdout",
     "output_type": "stream",
     "text": [
      "161:\tlearn: 0.1453331\ttotal: 35.7s\tremaining: 8.36s\n",
      "162:\tlearn: 0.1448946\ttotal: 35.9s\tremaining: 8.15s\n",
      "163:\tlearn: 0.1436480\ttotal: 36.3s\tremaining: 7.96s\n",
      "164:\tlearn: 0.1426074\ttotal: 36.5s\tremaining: 7.75s\n",
      "165:\tlearn: 0.1421263\ttotal: 36.8s\tremaining: 7.53s\n",
      "166:\tlearn: 0.1412562\ttotal: 37s\tremaining: 7.32s\n",
      "167:\tlearn: 0.1406769\ttotal: 37.3s\tremaining: 7.1s\n",
      "168:\tlearn: 0.1402166\ttotal: 37.5s\tremaining: 6.88s\n",
      "169:\tlearn: 0.1392394\ttotal: 37.7s\tremaining: 6.66s\n",
      "170:\tlearn: 0.1386281\ttotal: 38s\tremaining: 6.44s\n",
      "171:\tlearn: 0.1376369\ttotal: 38.2s\tremaining: 6.22s\n",
      "172:\tlearn: 0.1368497\ttotal: 38.4s\tremaining: 5.99s\n",
      "173:\tlearn: 0.1359571\ttotal: 38.6s\tremaining: 5.77s\n",
      "174:\tlearn: 0.1353248\ttotal: 38.9s\tremaining: 5.56s\n",
      "175:\tlearn: 0.1347461\ttotal: 39.1s\tremaining: 5.33s\n",
      "176:\tlearn: 0.1338628\ttotal: 39.4s\tremaining: 5.11s\n",
      "177:\tlearn: 0.1328811\ttotal: 39.7s\tremaining: 4.9s\n",
      "178:\tlearn: 0.1321145\ttotal: 40s\tremaining: 4.69s\n",
      "179:\tlearn: 0.1312488\ttotal: 40.3s\tremaining: 4.48s\n",
      "180:\tlearn: 0.1305958\ttotal: 40.5s\tremaining: 4.25s\n",
      "181:\tlearn: 0.1298393\ttotal: 40.8s\tremaining: 4.03s\n",
      "182:\tlearn: 0.1292655\ttotal: 41.1s\tremaining: 3.82s\n",
      "183:\tlearn: 0.1280975\ttotal: 41.4s\tremaining: 3.6s\n",
      "184:\tlearn: 0.1276044\ttotal: 41.6s\tremaining: 3.37s\n",
      "185:\tlearn: 0.1273399\ttotal: 41.8s\tremaining: 3.15s\n",
      "186:\tlearn: 0.1266815\ttotal: 42.1s\tremaining: 2.92s\n",
      "187:\tlearn: 0.1263843\ttotal: 42.3s\tremaining: 2.7s\n",
      "188:\tlearn: 0.1257286\ttotal: 42.6s\tremaining: 2.48s\n",
      "189:\tlearn: 0.1248319\ttotal: 42.8s\tremaining: 2.25s\n",
      "190:\tlearn: 0.1241324\ttotal: 43s\tremaining: 2.03s\n",
      "191:\tlearn: 0.1236617\ttotal: 43.3s\tremaining: 1.8s\n",
      "192:\tlearn: 0.1232517\ttotal: 43.5s\tremaining: 1.58s\n",
      "193:\tlearn: 0.1223622\ttotal: 43.8s\tremaining: 1.35s\n",
      "194:\tlearn: 0.1215527\ttotal: 44s\tremaining: 1.13s\n",
      "195:\tlearn: 0.1206242\ttotal: 44.2s\tremaining: 903ms\n",
      "196:\tlearn: 0.1198144\ttotal: 44.5s\tremaining: 677ms\n",
      "197:\tlearn: 0.1193280\ttotal: 44.7s\tremaining: 452ms\n",
      "198:\tlearn: 0.1187351\ttotal: 45s\tremaining: 226ms\n",
      "199:\tlearn: 0.1183691\ttotal: 45.3s\tremaining: 0us\n"
     ]
    },
    {
     "data": {
      "text/plain": [
       "<catboost.core.CatBoostClassifier at 0x7f8f86d97d60>"
      ]
     },
     "execution_count": 114,
     "metadata": {},
     "output_type": "execute_result"
    }
   ],
   "source": [
    "from catboost import CatBoostClassifier\n",
    "\n",
    "train_data = X_train\n",
    "train_labels = y_train\n",
    "\n",
    "model = CatBoostClassifier(iterations=200)\n",
    "model.fit(train_data, train_labels)"
   ]
  },
  {
   "cell_type": "code",
   "execution_count": 63,
   "id": "5f5506e9",
   "metadata": {},
   "outputs": [],
   "source": [
    "import itertools"
   ]
  },
  {
   "cell_type": "code",
   "execution_count": 115,
   "id": "3c7bc517-6f66-4cd9-b89f-a2fd5e00a315",
   "metadata": {},
   "outputs": [],
   "source": [
    "y_pred = model.predict(X_test)"
   ]
  },
  {
   "cell_type": "code",
   "execution_count": 118,
   "id": "a1005929-b3e7-434c-a793-bb031efd5009",
   "metadata": {
    "scrolled": true
   },
   "outputs": [
    {
     "data": {
      "text/plain": [
       "{'don_rnd': {'don_rnd': 356, 'keba': 30, 'opochka': 6, 'standart': 36},\n",
       " 'keba': {'don_rnd': 15, 'keba': 343, 'opochka': 6, 'standart': 22},\n",
       " 'opochka': {'don_rnd': 3, 'keba': 15, 'opochka': 342, 'standart': 25},\n",
       " 'standart': {'don_rnd': 53, 'keba': 69, 'opochka': 50, 'standart': 223}}"
      ]
     },
     "execution_count": 118,
     "metadata": {},
     "output_type": "execute_result"
    }
   ],
   "source": [
    "accuracy(dct, y_test, list(itertools.chain.from_iterable(y_pred.tolist())))"
   ]
  },
  {
   "cell_type": "code",
   "execution_count": 127,
   "id": "c4261118-519e-4422-9302-168177edcd47",
   "metadata": {
    "collapsed": true
   },
   "outputs": [
    {
     "data": {
      "image/png": "[encoded data removed]",
      "text/plain": [
       "<Figure size 640x480 with 2 Axes>"
      ]
     },
     "metadata": {},
     "output_type": "display_data"
    }
   ],
   "source": [
    "import matplotlib.pyplot as plt\n",
    "import numpy\n",
    "import matplotlib.colors\n",
    "from sklearn import metrics\n",
    "\n",
    "sns.set_theme(style=\"white\")\n",
    "confusion_matrix = metrics.confusion_matrix(y_test, y_pred)\n",
    "\n",
    "cmap = matplotlib.colors.LinearSegmentedColormap.from_list(\"\", [\"#6a994e\",\"#cbc0d3\",\"#493c67\"])\n",
    "cm_display = metrics.ConfusionMatrixDisplay(confusion_matrix = confusion_matrix)\n",
    "\n",
    "cm_display.plot(include_values=False, cmap=cmap)\n",
    "plt.show()"
   ]
  },
  {
   "cell_type": "code",
   "execution_count": 83,
   "id": "72d631e3",
   "metadata": {},
   "outputs": [
    {
     "name": "stdout",
     "output_type": "stream",
     "text": [
      "0.4839924670433145\n",
      "0.48192850031195744\n"
     ]
    }
   ],
   "source": [
    "print(accuracy_score(y_test, y_pred), f1_score(y_test, y_pred, average='macro'), sep='\\n')"
   ]
  },
  {
   "cell_type": "code",
   "execution_count": 51,
   "id": "f3a69531-8af5-4915-a8be-bc18b1844c2b",
   "metadata": {
    "collapsed": true
   },
   "outputs": [
    {
     "name": "stdout",
     "output_type": "stream",
     "text": [
      "Iteration 1, loss = 3.86548175\n",
      "Iteration 2, loss = 1.35983443\n",
      "Iteration 3, loss = 0.76254491\n",
      "Iteration 4, loss = 0.52548221\n",
      "Iteration 5, loss = 0.35343981\n",
      "Iteration 6, loss = 0.25753556\n",
      "Iteration 7, loss = 0.21681868\n",
      "Iteration 8, loss = 0.22818283\n",
      "Iteration 9, loss = 0.16951741\n",
      "Iteration 10, loss = 0.15533807\n",
      "Iteration 11, loss = 0.16095410\n",
      "Iteration 12, loss = 0.12690658\n",
      "Iteration 13, loss = 0.09212249\n",
      "Iteration 14, loss = 0.06702060\n",
      "Iteration 15, loss = 0.06929310\n",
      "Iteration 16, loss = 0.07162314\n",
      "Iteration 17, loss = 0.08780091\n",
      "Iteration 18, loss = 0.08531902\n",
      "Iteration 19, loss = 0.05005745\n",
      "Iteration 20, loss = 0.04934247\n",
      "Iteration 21, loss = 0.04829331\n",
      "Iteration 22, loss = 0.04376672\n",
      "Iteration 23, loss = 0.06365679\n",
      "Iteration 24, loss = 0.04540372\n",
      "Iteration 25, loss = 0.06810872\n",
      "Iteration 26, loss = 0.15736194\n",
      "Iteration 27, loss = 0.29890856\n",
      "Iteration 28, loss = 0.15587653\n",
      "Iteration 29, loss = 0.08795957\n",
      "Iteration 30, loss = 0.04956995\n",
      "Iteration 31, loss = 0.02698725\n",
      "Iteration 32, loss = 0.02227210\n",
      "Iteration 33, loss = 0.01786727\n",
      "Iteration 34, loss = 0.01090483\n",
      "Iteration 35, loss = 0.00846404\n",
      "Iteration 36, loss = 0.00779637\n",
      "Iteration 37, loss = 0.00870989\n",
      "Iteration 38, loss = 0.00722426\n",
      "Iteration 39, loss = 0.00598109\n",
      "Iteration 40, loss = 0.00572185\n",
      "Iteration 41, loss = 0.00549969\n",
      "Iteration 42, loss = 0.00574725\n",
      "Iteration 43, loss = 0.00582035\n",
      "Iteration 44, loss = 0.00457738\n",
      "Iteration 45, loss = 0.00457986\n",
      "Iteration 46, loss = 0.00423876\n",
      "Iteration 47, loss = 0.00456381\n",
      "Iteration 48, loss = 0.00580869\n",
      "Iteration 49, loss = 0.00485151\n",
      "Iteration 50, loss = 0.00411714\n",
      "Iteration 51, loss = 0.00369136\n",
      "Iteration 52, loss = 0.00393322\n",
      "Iteration 53, loss = 0.00370641\n",
      "Iteration 54, loss = 0.00334687\n",
      "Iteration 55, loss = 0.00368761\n",
      "Iteration 56, loss = 0.00324778\n",
      "Iteration 57, loss = 0.00313147\n",
      "Iteration 58, loss = 0.00320783\n",
      "Iteration 59, loss = 0.00301631\n",
      "Iteration 60, loss = 0.00302695\n",
      "Iteration 61, loss = 0.00338536\n",
      "Iteration 62, loss = 0.00280268\n",
      "Iteration 63, loss = 0.00263956\n",
      "Iteration 64, loss = 0.00256083\n",
      "Iteration 65, loss = 0.00256422\n",
      "Iteration 66, loss = 0.00257195\n",
      "Iteration 67, loss = 0.00257464\n",
      "Iteration 68, loss = 0.00235231\n",
      "Iteration 69, loss = 0.00238989\n",
      "Iteration 70, loss = 0.00217900\n",
      "Iteration 71, loss = 0.00222698\n",
      "Iteration 72, loss = 0.00219734\n",
      "Iteration 73, loss = 0.00216472\n",
      "Iteration 74, loss = 0.00209105\n",
      "Iteration 75, loss = 0.00203873\n",
      "Iteration 76, loss = 0.00198827\n",
      "Iteration 77, loss = 0.00192148\n",
      "Iteration 78, loss = 0.00194318\n",
      "Iteration 79, loss = 0.00195562\n",
      "Iteration 80, loss = 0.00205577\n",
      "Iteration 81, loss = 0.00238308\n",
      "Training loss did not improve more than tol=0.000100 for 10 consecutive epochs. Stopping.\n"
     ]
    },
    {
     "data": {
      "text/plain": [
       "0.7848180677540778"
      ]
     },
     "execution_count": 51,
     "metadata": {},
     "output_type": "execute_result"
    }
   ],
   "source": [
    "# X, y = make_classification(n_samples=100, random_state=1)\n",
    "# X_train, X_test, y_train, y_test = train_test_split(X, y, stratify=y,\n",
    "#                                                      random_state=1)\n",
    "clf = MLPClassifier(hidden_layer_sizes=(512,), random_state=1, max_iter=300, verbose=True).fit(X_train, y_train)\n",
    "\n",
    "clf.predict(X_test)\n",
    "clf.score(X_test, y_test)\n"
   ]
  },
  {
   "cell_type": "markdown",
   "id": "0b235280",
   "metadata": {},
   "source": [
    "## F-t"
   ]
  },
  {
   "cell_type": "code",
   "execution_count": 30,
   "id": "2a71de40",
   "metadata": {},
   "outputs": [
    {
     "name": "stderr",
     "output_type": "stream",
     "text": [
      "Some weights of the model checkpoint at jonatasgrosman/wav2vec2-large-xlsr-53-russian were not used when initializing Wav2Vec2Model: ['lm_head.bias', 'lm_head.weight']\n",
      "- This IS expected if you are initializing Wav2Vec2Model from the checkpoint of a model trained on another task or with another architecture (e.g. initializing a BertForSequenceClassification model from a BertForPreTraining model).\n",
      "- This IS NOT expected if you are initializing Wav2Vec2Model from the checkpoint of a model that you expect to be exactly identical (initializing a BertForSequenceClassification model from a BertForSequenceClassification model).\n"
     ]
    }
   ],
   "source": [
    "model_name_ft = \"jonatasgrosman/wav2vec2-large-xlsr-53-russian\"\n",
    "feature_extractor_ft = Wav2Vec2FeatureExtractor.from_pretrained(model_name_ft, device='cuda')\n",
    "model_ft = Wav2Vec2Model.from_pretrained(model_name_ft)"
   ]
  },
  {
   "cell_type": "code",
   "execution_count": 31,
   "id": "f1f2f302",
   "metadata": {},
   "outputs": [],
   "source": [
    "vectors_ft = feature_extractor_ft(massivix, return_tensors=\"pt\", sampling_rate=sample_rate, padding='max_length', \n",
    "                    max_length=2620, truncation=True).input_values"
   ]
  },
  {
   "cell_type": "code",
   "execution_count": 64,
   "id": "6ff20638",
   "metadata": {},
   "outputs": [],
   "source": [
    "torch.save(vectors_ft, 'vectors_ft.pth')"
   ]
  },
  {
   "cell_type": "code",
   "execution_count": 66,
   "id": "42907e0f",
   "metadata": {},
   "outputs": [
    {
     "name": "stderr",
     "output_type": "stream",
     "text": [
      "/var/folders/tl/xqt8rvfj2_x_0216w6nc9xyh0000gn/T/ipykernel_42948/832104874.py:3: UserWarning: To copy construct from a tensor, it is recommended to use sourceTensor.clone().detach() or sourceTensor.clone().detach().requires_grad_(True), rather than torch.tensor(sourceTensor).\n",
      "  self.X = torch.tensor(X)\n"
     ]
    }
   ],
   "source": [
    "vectors_ft = torch.load('vectors_ft.pth', map_location=torch.device('cpu'))\n",
    "\n",
    "dataset_ft = VectorsDataset(X=vectors_ft, paths=files)\n",
    "dataloader = DataLoader(dataset_ft, 64, True)"
   ]
  },
  {
   "cell_type": "code",
   "execution_count": 67,
   "id": "f3e8f1ca",
   "metadata": {},
   "outputs": [],
   "source": [
    "!mkdir predictions_dials_ft"
   ]
  },
  {
   "cell_type": "code",
   "execution_count": 68,
   "id": "379af612",
   "metadata": {},
   "outputs": [
    {
     "data": {
      "application/vnd.jupyter.widget-view+json": {
       "model_id": "33e2b5e98fef4a388c219b880b0ab40d",
       "version_major": 2,
       "version_minor": 0
      },
      "text/plain": [
       "  0%|          | 0/76 [00:00<?, ?it/s]"
      ]
     },
     "metadata": {},
     "output_type": "display_data"
    }
   ],
   "source": [
    "path2vec = {}\n",
    "for vector_ent, paths in tqdm(dataloader):\n",
    "    predict = model_ft(vector_ent.to('cpu')).extract_features\n",
    "    for i in range(len(predict)):\n",
    "        filename = 'predictions_dials_ft/' + paths[i].replace('.wav', '.pth').replace('/', '_')\n",
    "        torch.save(predict[i], filename)\n",
    "        path2vec[paths[i]] = filename\n",
    "        # print(predict[i].shape)\n"
   ]
  },
  {
   "cell_type": "code",
   "execution_count": 70,
   "id": "0bd21077",
   "metadata": {},
   "outputs": [],
   "source": [
    "import pickle\n",
    "\n",
    "with open('data_ft.pickle', 'wb') as f:\n",
    "     pickle.dump(path2vec, f)\n",
    "\n",
    "with open('data_ft.pickle', 'rb') as f:\n",
    "     path2vec = pickle.load(f)"
   ]
  },
  {
   "cell_type": "code",
   "execution_count": 71,
   "id": "ac693633",
   "metadata": {},
   "outputs": [],
   "source": [
    "items_ft = path2vec.items()"
   ]
  },
  {
   "cell_type": "code",
   "execution_count": 74,
   "id": "b81f123e",
   "metadata": {},
   "outputs": [
    {
     "data": {
      "application/vnd.jupyter.widget-view+json": {
       "model_id": "389d979cf3ba4671a53bf91adc8876fd",
       "version_major": 2,
       "version_minor": 0
      },
      "text/plain": [
       "  0%|          | 0/4828 [00:00<?, ?it/s]"
      ]
     },
     "metadata": {},
     "output_type": "display_data"
    }
   ],
   "source": [
    "X_ft = []\n",
    "Y_ft = []\n",
    "for item in tqdm(items_ft):\n",
    "    vector = torch.load(item[1]).detach().tolist()\n",
    "    targets = df_last[df_last['filename'] == item[0]]\n",
    "    target = targets['corpus'].to_list()[0]\n",
    "    X_ft.append(sum(np.array(vector)))\n",
    "    Y_ft.append(target)"
   ]
  },
  {
   "cell_type": "code",
   "execution_count": 80,
   "id": "478fa0a2",
   "metadata": {
    "collapsed": true
   },
   "outputs": [
    {
     "name": "stdout",
     "output_type": "stream",
     "text": [
      "Learning rate set to 0.327303\n",
      "0:\tlearn: 1.1775842\ttotal: 293ms\tremaining: 58.2s\n",
      "1:\tlearn: 1.0194866\ttotal: 509ms\tremaining: 50.4s\n",
      "2:\tlearn: 0.9291852\ttotal: 735ms\tremaining: 48.3s\n",
      "3:\tlearn: 0.8601267\ttotal: 951ms\tremaining: 46.6s\n",
      "4:\tlearn: 0.8159920\ttotal: 1.18s\tremaining: 45.9s\n",
      "5:\tlearn: 0.7794938\ttotal: 1.39s\tremaining: 45.1s\n",
      "6:\tlearn: 0.7480796\ttotal: 1.62s\tremaining: 44.7s\n",
      "7:\tlearn: 0.7148119\ttotal: 1.85s\tremaining: 44.5s\n",
      "8:\tlearn: 0.6821675\ttotal: 2.07s\tremaining: 44s\n",
      "9:\tlearn: 0.6574758\ttotal: 2.31s\tremaining: 43.9s\n",
      "10:\tlearn: 0.6379649\ttotal: 2.55s\tremaining: 43.8s\n",
      "11:\tlearn: 0.6186636\ttotal: 2.78s\tremaining: 43.5s\n",
      "12:\tlearn: 0.6089065\ttotal: 3.01s\tremaining: 43.3s\n",
      "13:\tlearn: 0.5952071\ttotal: 3.27s\tremaining: 43.5s\n",
      "14:\tlearn: 0.5838367\ttotal: 3.49s\tremaining: 43.1s\n",
      "15:\tlearn: 0.5734456\ttotal: 3.72s\tremaining: 42.8s\n",
      "16:\tlearn: 0.5613961\ttotal: 3.94s\tremaining: 42.4s\n",
      "17:\tlearn: 0.5523525\ttotal: 4.17s\tremaining: 42.2s\n",
      "18:\tlearn: 0.5394470\ttotal: 4.42s\tremaining: 42.1s\n",
      "19:\tlearn: 0.5293165\ttotal: 4.65s\tremaining: 41.8s\n",
      "20:\tlearn: 0.5163875\ttotal: 4.89s\tremaining: 41.7s\n",
      "21:\tlearn: 0.5085453\ttotal: 5.11s\tremaining: 41.4s\n",
      "22:\tlearn: 0.4959355\ttotal: 5.35s\tremaining: 41.2s\n",
      "23:\tlearn: 0.4854101\ttotal: 5.59s\tremaining: 41s\n",
      "24:\tlearn: 0.4792447\ttotal: 5.8s\tremaining: 40.6s\n",
      "25:\tlearn: 0.4719983\ttotal: 6.06s\tremaining: 40.6s\n",
      "26:\tlearn: 0.4670248\ttotal: 6.29s\tremaining: 40.3s\n",
      "27:\tlearn: 0.4627569\ttotal: 6.52s\tremaining: 40s\n",
      "28:\tlearn: 0.4558091\ttotal: 6.76s\tremaining: 39.8s\n",
      "29:\tlearn: 0.4479928\ttotal: 7s\tremaining: 39.6s\n",
      "30:\tlearn: 0.4426443\ttotal: 7.21s\tremaining: 39.3s\n",
      "31:\tlearn: 0.4375694\ttotal: 7.46s\tremaining: 39.2s\n",
      "32:\tlearn: 0.4331242\ttotal: 7.72s\tremaining: 39.1s\n",
      "33:\tlearn: 0.4259705\ttotal: 7.95s\tremaining: 38.8s\n",
      "34:\tlearn: 0.4208482\ttotal: 8.17s\tremaining: 38.5s\n",
      "35:\tlearn: 0.4126880\ttotal: 8.59s\tremaining: 39.1s\n",
      "36:\tlearn: 0.4075374\ttotal: 9.04s\tremaining: 39.8s\n",
      "37:\tlearn: 0.3994415\ttotal: 9.3s\tremaining: 39.7s\n",
      "38:\tlearn: 0.3943540\ttotal: 9.61s\tremaining: 39.7s\n",
      "39:\tlearn: 0.3879279\ttotal: 9.95s\tremaining: 39.8s\n",
      "40:\tlearn: 0.3855626\ttotal: 10.3s\tremaining: 40.1s\n",
      "41:\tlearn: 0.3801954\ttotal: 10.6s\tremaining: 40s\n",
      "42:\tlearn: 0.3758067\ttotal: 10.9s\tremaining: 39.7s\n",
      "43:\tlearn: 0.3716486\ttotal: 11.2s\tremaining: 39.7s\n",
      "44:\tlearn: 0.3648554\ttotal: 11.5s\tremaining: 39.5s\n",
      "45:\tlearn: 0.3621895\ttotal: 11.8s\tremaining: 39.4s\n",
      "46:\tlearn: 0.3583812\ttotal: 12s\tremaining: 39.1s\n",
      "47:\tlearn: 0.3548439\ttotal: 12.2s\tremaining: 38.8s\n",
      "48:\tlearn: 0.3488897\ttotal: 12.5s\tremaining: 38.6s\n",
      "49:\tlearn: 0.3467405\ttotal: 12.8s\tremaining: 38.4s\n",
      "50:\tlearn: 0.3428653\ttotal: 13s\tremaining: 38.1s\n",
      "51:\tlearn: 0.3389516\ttotal: 13.3s\tremaining: 37.8s\n",
      "52:\tlearn: 0.3363204\ttotal: 13.6s\tremaining: 37.7s\n",
      "53:\tlearn: 0.3338298\ttotal: 13.9s\tremaining: 37.5s\n",
      "54:\tlearn: 0.3324317\ttotal: 14.1s\tremaining: 37.2s\n",
      "55:\tlearn: 0.3290040\ttotal: 14.4s\tremaining: 37.1s\n",
      "56:\tlearn: 0.3273903\ttotal: 14.7s\tremaining: 36.8s\n",
      "57:\tlearn: 0.3240722\ttotal: 14.9s\tremaining: 36.6s\n",
      "58:\tlearn: 0.3215911\ttotal: 15.3s\tremaining: 36.5s\n",
      "59:\tlearn: 0.3181574\ttotal: 15.6s\tremaining: 36.3s\n",
      "60:\tlearn: 0.3136389\ttotal: 15.9s\tremaining: 36.1s\n",
      "61:\tlearn: 0.3109597\ttotal: 16.2s\tremaining: 36s\n",
      "62:\tlearn: 0.3072993\ttotal: 16.4s\tremaining: 35.7s\n",
      "63:\tlearn: 0.3042418\ttotal: 16.8s\tremaining: 35.6s\n",
      "64:\tlearn: 0.3015659\ttotal: 17.1s\tremaining: 35.5s\n",
      "65:\tlearn: 0.2990027\ttotal: 17.4s\tremaining: 35.3s\n",
      "66:\tlearn: 0.2974172\ttotal: 17.6s\tremaining: 35s\n",
      "67:\tlearn: 0.2951201\ttotal: 17.9s\tremaining: 34.8s\n",
      "68:\tlearn: 0.2924361\ttotal: 18.3s\tremaining: 34.7s\n",
      "69:\tlearn: 0.2905107\ttotal: 18.5s\tremaining: 34.4s\n",
      "70:\tlearn: 0.2894192\ttotal: 18.8s\tremaining: 34.2s\n",
      "71:\tlearn: 0.2865823\ttotal: 19.1s\tremaining: 33.9s\n",
      "72:\tlearn: 0.2838453\ttotal: 19.4s\tremaining: 33.7s\n",
      "73:\tlearn: 0.2811162\ttotal: 19.6s\tremaining: 33.4s\n",
      "74:\tlearn: 0.2780554\ttotal: 19.9s\tremaining: 33.1s\n",
      "75:\tlearn: 0.2759599\ttotal: 20.2s\tremaining: 32.9s\n",
      "76:\tlearn: 0.2726904\ttotal: 20.4s\tremaining: 32.7s\n",
      "77:\tlearn: 0.2686668\ttotal: 20.8s\tremaining: 32.5s\n",
      "78:\tlearn: 0.2661681\ttotal: 21s\tremaining: 32.2s\n",
      "79:\tlearn: 0.2642565\ttotal: 21.3s\tremaining: 31.9s\n",
      "80:\tlearn: 0.2611202\ttotal: 21.5s\tremaining: 31.6s\n",
      "81:\tlearn: 0.2585551\ttotal: 21.8s\tremaining: 31.4s\n",
      "82:\tlearn: 0.2558057\ttotal: 22.1s\tremaining: 31.2s\n",
      "83:\tlearn: 0.2528887\ttotal: 22.5s\tremaining: 31s\n",
      "84:\tlearn: 0.2507066\ttotal: 22.8s\tremaining: 30.8s\n",
      "85:\tlearn: 0.2494909\ttotal: 23s\tremaining: 30.5s\n",
      "86:\tlearn: 0.2480514\ttotal: 23.3s\tremaining: 30.3s\n",
      "87:\tlearn: 0.2461160\ttotal: 23.6s\tremaining: 30.1s\n",
      "88:\tlearn: 0.2433678\ttotal: 23.9s\tremaining: 29.8s\n",
      "89:\tlearn: 0.2411832\ttotal: 24.1s\tremaining: 29.5s\n",
      "90:\tlearn: 0.2373854\ttotal: 24.4s\tremaining: 29.2s\n",
      "91:\tlearn: 0.2356133\ttotal: 24.7s\tremaining: 29s\n",
      "92:\tlearn: 0.2336955\ttotal: 24.9s\tremaining: 28.7s\n",
      "93:\tlearn: 0.2313788\ttotal: 25.2s\tremaining: 28.4s\n",
      "94:\tlearn: 0.2284541\ttotal: 25.5s\tremaining: 28.2s\n",
      "95:\tlearn: 0.2259476\ttotal: 25.8s\tremaining: 27.9s\n",
      "96:\tlearn: 0.2249841\ttotal: 26s\tremaining: 27.6s\n",
      "97:\tlearn: 0.2223386\ttotal: 26.3s\tremaining: 27.3s\n",
      "98:\tlearn: 0.2211580\ttotal: 26.5s\tremaining: 27.1s\n",
      "99:\tlearn: 0.2183774\ttotal: 26.8s\tremaining: 26.8s\n",
      "100:\tlearn: 0.2161858\ttotal: 27.1s\tremaining: 26.5s\n",
      "101:\tlearn: 0.2152688\ttotal: 27.3s\tremaining: 26.2s\n",
      "102:\tlearn: 0.2124263\ttotal: 27.6s\tremaining: 26s\n",
      "103:\tlearn: 0.2103031\ttotal: 27.9s\tremaining: 25.7s\n",
      "104:\tlearn: 0.2073924\ttotal: 28.1s\tremaining: 25.4s\n",
      "105:\tlearn: 0.2050798\ttotal: 28.4s\tremaining: 25.2s\n",
      "106:\tlearn: 0.2035401\ttotal: 28.7s\tremaining: 24.9s\n",
      "107:\tlearn: 0.2021364\ttotal: 28.9s\tremaining: 24.7s\n",
      "108:\tlearn: 0.2013352\ttotal: 29.2s\tremaining: 24.4s\n",
      "109:\tlearn: 0.2001268\ttotal: 29.4s\tremaining: 24.1s\n",
      "110:\tlearn: 0.1987771\ttotal: 29.7s\tremaining: 23.8s\n",
      "111:\tlearn: 0.1967237\ttotal: 29.9s\tremaining: 23.5s\n",
      "112:\tlearn: 0.1954966\ttotal: 30.2s\tremaining: 23.2s\n",
      "113:\tlearn: 0.1937541\ttotal: 30.5s\tremaining: 23s\n",
      "114:\tlearn: 0.1926846\ttotal: 30.7s\tremaining: 22.7s\n",
      "115:\tlearn: 0.1912022\ttotal: 31s\tremaining: 22.4s\n",
      "116:\tlearn: 0.1896315\ttotal: 31.3s\tremaining: 22.2s\n",
      "117:\tlearn: 0.1873363\ttotal: 31.5s\tremaining: 21.9s\n",
      "118:\tlearn: 0.1865648\ttotal: 31.7s\tremaining: 21.6s\n",
      "119:\tlearn: 0.1852305\ttotal: 32s\tremaining: 21.3s\n",
      "120:\tlearn: 0.1840024\ttotal: 32.3s\tremaining: 21.1s\n",
      "121:\tlearn: 0.1830148\ttotal: 32.5s\tremaining: 20.8s\n",
      "122:\tlearn: 0.1820409\ttotal: 32.8s\tremaining: 20.5s\n",
      "123:\tlearn: 0.1812188\ttotal: 33s\tremaining: 20.2s\n",
      "124:\tlearn: 0.1798886\ttotal: 33.3s\tremaining: 20s\n",
      "125:\tlearn: 0.1790068\ttotal: 33.5s\tremaining: 19.7s\n",
      "126:\tlearn: 0.1781108\ttotal: 33.8s\tremaining: 19.4s\n",
      "127:\tlearn: 0.1770724\ttotal: 34s\tremaining: 19.1s\n",
      "128:\tlearn: 0.1756309\ttotal: 34.3s\tremaining: 18.9s\n",
      "129:\tlearn: 0.1747840\ttotal: 34.5s\tremaining: 18.6s\n",
      "130:\tlearn: 0.1733079\ttotal: 34.8s\tremaining: 18.3s\n",
      "131:\tlearn: 0.1719381\ttotal: 35s\tremaining: 18s\n",
      "132:\tlearn: 0.1705320\ttotal: 35.3s\tremaining: 17.8s\n",
      "133:\tlearn: 0.1697900\ttotal: 35.5s\tremaining: 17.5s\n",
      "134:\tlearn: 0.1686233\ttotal: 35.8s\tremaining: 17.2s\n",
      "135:\tlearn: 0.1680133\ttotal: 36s\tremaining: 17s\n",
      "136:\tlearn: 0.1667829\ttotal: 36.3s\tremaining: 16.7s\n",
      "137:\tlearn: 0.1660560\ttotal: 36.5s\tremaining: 16.4s\n",
      "138:\tlearn: 0.1653192\ttotal: 36.8s\tremaining: 16.1s\n",
      "139:\tlearn: 0.1639443\ttotal: 37s\tremaining: 15.9s\n",
      "140:\tlearn: 0.1630605\ttotal: 37.3s\tremaining: 15.6s\n",
      "141:\tlearn: 0.1622652\ttotal: 37.6s\tremaining: 15.3s\n",
      "142:\tlearn: 0.1614933\ttotal: 37.8s\tremaining: 15.1s\n",
      "143:\tlearn: 0.1608771\ttotal: 38.1s\tremaining: 14.8s\n",
      "144:\tlearn: 0.1598757\ttotal: 38.3s\tremaining: 14.5s\n",
      "145:\tlearn: 0.1588739\ttotal: 38.6s\tremaining: 14.3s\n",
      "146:\tlearn: 0.1578585\ttotal: 38.8s\tremaining: 14s\n",
      "147:\tlearn: 0.1571881\ttotal: 39.1s\tremaining: 13.7s\n",
      "148:\tlearn: 0.1558621\ttotal: 39.3s\tremaining: 13.5s\n",
      "149:\tlearn: 0.1542973\ttotal: 39.6s\tremaining: 13.2s\n",
      "150:\tlearn: 0.1530391\ttotal: 39.8s\tremaining: 12.9s\n",
      "151:\tlearn: 0.1518409\ttotal: 40s\tremaining: 12.6s\n",
      "152:\tlearn: 0.1507259\ttotal: 40.3s\tremaining: 12.4s\n",
      "153:\tlearn: 0.1504070\ttotal: 40.5s\tremaining: 12.1s\n",
      "154:\tlearn: 0.1492799\ttotal: 40.8s\tremaining: 11.8s\n",
      "155:\tlearn: 0.1484393\ttotal: 41s\tremaining: 11.6s\n",
      "156:\tlearn: 0.1476550\ttotal: 41.3s\tremaining: 11.3s\n",
      "157:\tlearn: 0.1465824\ttotal: 41.5s\tremaining: 11s\n",
      "158:\tlearn: 0.1461824\ttotal: 41.8s\tremaining: 10.8s\n",
      "159:\tlearn: 0.1455254\ttotal: 42s\tremaining: 10.5s\n",
      "160:\tlearn: 0.1446913\ttotal: 42.3s\tremaining: 10.2s\n"
     ]
    },
    {
     "name": "stdout",
     "output_type": "stream",
     "text": [
      "161:\tlearn: 0.1436111\ttotal: 42.5s\tremaining: 9.97s\n",
      "162:\tlearn: 0.1425330\ttotal: 42.8s\tremaining: 9.71s\n",
      "163:\tlearn: 0.1415540\ttotal: 43s\tremaining: 9.45s\n",
      "164:\tlearn: 0.1400339\ttotal: 43.4s\tremaining: 9.2s\n",
      "165:\tlearn: 0.1391198\ttotal: 43.7s\tremaining: 8.95s\n",
      "166:\tlearn: 0.1378101\ttotal: 44s\tremaining: 8.69s\n",
      "167:\tlearn: 0.1370870\ttotal: 44.3s\tremaining: 8.44s\n",
      "168:\tlearn: 0.1365213\ttotal: 44.6s\tremaining: 8.18s\n",
      "169:\tlearn: 0.1359897\ttotal: 44.9s\tremaining: 7.92s\n",
      "170:\tlearn: 0.1347603\ttotal: 45.2s\tremaining: 7.67s\n",
      "171:\tlearn: 0.1333576\ttotal: 45.5s\tremaining: 7.41s\n",
      "172:\tlearn: 0.1325524\ttotal: 45.8s\tremaining: 7.14s\n",
      "173:\tlearn: 0.1319431\ttotal: 46s\tremaining: 6.88s\n",
      "174:\tlearn: 0.1314671\ttotal: 46.3s\tremaining: 6.61s\n",
      "175:\tlearn: 0.1301178\ttotal: 46.6s\tremaining: 6.35s\n",
      "176:\tlearn: 0.1295503\ttotal: 46.8s\tremaining: 6.08s\n",
      "177:\tlearn: 0.1282056\ttotal: 47.1s\tremaining: 5.82s\n",
      "178:\tlearn: 0.1270749\ttotal: 47.4s\tremaining: 5.55s\n",
      "179:\tlearn: 0.1264626\ttotal: 47.6s\tremaining: 5.29s\n",
      "180:\tlearn: 0.1257371\ttotal: 47.8s\tremaining: 5.02s\n",
      "181:\tlearn: 0.1251649\ttotal: 48.1s\tremaining: 4.75s\n",
      "182:\tlearn: 0.1244490\ttotal: 48.3s\tremaining: 4.49s\n",
      "183:\tlearn: 0.1237736\ttotal: 48.6s\tremaining: 4.22s\n",
      "184:\tlearn: 0.1230309\ttotal: 48.8s\tremaining: 3.96s\n",
      "185:\tlearn: 0.1218784\ttotal: 49s\tremaining: 3.69s\n",
      "186:\tlearn: 0.1206986\ttotal: 49.3s\tremaining: 3.43s\n",
      "187:\tlearn: 0.1198881\ttotal: 49.6s\tremaining: 3.16s\n",
      "188:\tlearn: 0.1193440\ttotal: 49.8s\tremaining: 2.9s\n",
      "189:\tlearn: 0.1185929\ttotal: 50s\tremaining: 2.63s\n",
      "190:\tlearn: 0.1176843\ttotal: 50.3s\tremaining: 2.37s\n",
      "191:\tlearn: 0.1168793\ttotal: 50.5s\tremaining: 2.1s\n",
      "192:\tlearn: 0.1154346\ttotal: 50.8s\tremaining: 1.84s\n",
      "193:\tlearn: 0.1148268\ttotal: 51s\tremaining: 1.58s\n",
      "194:\tlearn: 0.1142260\ttotal: 51.3s\tremaining: 1.31s\n",
      "195:\tlearn: 0.1135856\ttotal: 51.5s\tremaining: 1.05s\n",
      "196:\tlearn: 0.1128900\ttotal: 51.7s\tremaining: 788ms\n",
      "197:\tlearn: 0.1123969\ttotal: 52s\tremaining: 525ms\n",
      "198:\tlearn: 0.1116675\ttotal: 52.2s\tremaining: 262ms\n",
      "199:\tlearn: 0.1108839\ttotal: 52.5s\tremaining: 0us\n"
     ]
    }
   ],
   "source": [
    "X_train, X_test, y_train, y_test = train_test_split(X_ft, Y_ft, test_size=0.33, random_state=42)\n",
    "\n",
    "train_data = X_train\n",
    "train_labels = y_train\n",
    "\n",
    "model = CatBoostClassifier(iterations=200)\n",
    "model.fit(train_data, train_labels)\n",
    "\n",
    "y_pred = model.predict(X_test)"
   ]
  },
  {
   "cell_type": "code",
   "execution_count": 81,
   "id": "0aceba28",
   "metadata": {},
   "outputs": [
    {
     "data": {
      "image/png": "[encoded data removed]",
      "text/plain": [
       "<Figure size 640x480 with 2 Axes>"
      ]
     },
     "metadata": {},
     "output_type": "display_data"
    }
   ],
   "source": [
    "actual = numpy.random.binomial(1,.9,size = 1000)\n",
    "predicted = numpy.random.binomial(1,.9,size = 1000)\n",
    "\n",
    "confusion_matrix = metrics.confusion_matrix(y_test, y_pred)\n",
    "\n",
    "cm_display = metrics.ConfusionMatrixDisplay(confusion_matrix = confusion_matrix)\n",
    "\n",
    "cm_display.plot()\n",
    "plt.show()"
   ]
  },
  {
   "cell_type": "code",
   "execution_count": 83,
   "id": "64446e51",
   "metadata": {},
   "outputs": [
    {
     "name": "stdout",
     "output_type": "stream",
     "text": [
      "0.7923462986198243\n",
      "0.7859773685441035\n"
     ]
    }
   ],
   "source": [
    "print(accuracy_score(y_test, y_pred), f1_score(y_test, y_pred, average='macro'), sep='\\n')"
   ]
  },
  {
   "cell_type": "code",
   "execution_count": 84,
   "id": "8cca8ca9",
   "metadata": {
    "collapsed": true
   },
   "outputs": [
    {
     "name": "stdout",
     "output_type": "stream",
     "text": [
      "Iteration 1, loss = 4.26103383\n",
      "Iteration 2, loss = 2.04721633\n",
      "Iteration 3, loss = 0.91192307\n",
      "Iteration 4, loss = 0.56818309\n",
      "Iteration 5, loss = 0.37767386\n",
      "Iteration 6, loss = 0.32194133\n",
      "Iteration 7, loss = 0.26162130\n",
      "Iteration 8, loss = 0.25842846\n",
      "Iteration 9, loss = 0.21046669\n",
      "Iteration 10, loss = 0.16122136\n",
      "Iteration 11, loss = 0.17060107\n",
      "Iteration 12, loss = 0.13010732\n",
      "Iteration 13, loss = 0.09383668\n",
      "Iteration 14, loss = 0.09790478\n",
      "Iteration 15, loss = 0.10168681\n",
      "Iteration 16, loss = 0.06643331\n",
      "Iteration 17, loss = 0.07075209\n",
      "Iteration 18, loss = 0.06438144\n",
      "Iteration 19, loss = 0.05249991\n",
      "Iteration 20, loss = 0.04668029\n",
      "Iteration 21, loss = 0.04954629\n",
      "Iteration 22, loss = 0.06636389\n",
      "Iteration 23, loss = 0.04848449\n",
      "Iteration 24, loss = 0.03609030\n",
      "Iteration 25, loss = 0.02984716\n",
      "Iteration 26, loss = 0.03908560\n",
      "Iteration 27, loss = 0.05458771\n",
      "Iteration 28, loss = 0.05456361\n",
      "Iteration 29, loss = 0.05003900\n",
      "Iteration 30, loss = 0.02857967\n",
      "Iteration 31, loss = 0.02518519\n",
      "Iteration 32, loss = 0.02070582\n",
      "Iteration 33, loss = 0.02536683\n",
      "Iteration 34, loss = 0.01996059\n",
      "Iteration 35, loss = 0.01899246\n",
      "Iteration 36, loss = 0.02213805\n",
      "Iteration 37, loss = 0.01320254\n",
      "Iteration 38, loss = 0.01666516\n",
      "Iteration 39, loss = 0.04731286\n",
      "Iteration 40, loss = 0.10631423\n",
      "Iteration 41, loss = 0.07174871\n",
      "Iteration 42, loss = 0.04341428\n",
      "Iteration 43, loss = 0.03607455\n",
      "Iteration 44, loss = 0.02525769\n",
      "Iteration 45, loss = 0.02204775\n",
      "Iteration 46, loss = 0.01955810\n",
      "Iteration 47, loss = 0.01066791\n",
      "Iteration 48, loss = 0.00685190\n",
      "Iteration 49, loss = 0.00575358\n",
      "Iteration 50, loss = 0.00532136\n",
      "Iteration 51, loss = 0.00497572\n",
      "Iteration 52, loss = 0.00446991\n",
      "Iteration 53, loss = 0.00381910\n",
      "Iteration 54, loss = 0.00370212\n",
      "Iteration 55, loss = 0.00354895\n",
      "Iteration 56, loss = 0.00348563\n",
      "Iteration 57, loss = 0.00545814\n",
      "Iteration 58, loss = 0.02337533\n",
      "Iteration 59, loss = 0.04679763\n",
      "Iteration 60, loss = 0.03479661\n",
      "Iteration 61, loss = 0.10987597\n",
      "Iteration 62, loss = 0.03613688\n",
      "Iteration 63, loss = 0.06302467\n",
      "Iteration 64, loss = 0.08242351\n",
      "Iteration 65, loss = 0.07941069\n",
      "Iteration 66, loss = 0.02634399\n",
      "Training loss did not improve more than tol=0.000100 for 10 consecutive epochs. Stopping.\n"
     ]
    },
    {
     "data": {
      "text/plain": [
       "0.7772898368883312"
      ]
     },
     "execution_count": 84,
     "metadata": {},
     "output_type": "execute_result"
    }
   ],
   "source": [
    "clf = MLPClassifier(hidden_layer_sizes=(512,), random_state=1, max_iter=300, verbose=True).fit(X_train, y_train)\n",
    "\n",
    "clf.predict(X_test)\n",
    "clf.score(X_test, y_test)"
   ]
  },
  {
   "cell_type": "markdown",
   "id": "d9d30d7b",
   "metadata": {},
   "source": [
    "## Whisper"
   ]
  },
  {
   "cell_type": "code",
   "execution_count": 4,
   "id": "30dcf865",
   "metadata": {},
   "outputs": [
    {
     "name": "stderr",
     "output_type": "stream",
     "text": [
      "/opt/conda/lib/python3.10/site-packages/whisper/timing.py:58: NumbaDeprecationWarning: The 'nopython' keyword argument was not supplied to the 'numba.jit' decorator. The implicit default value for this argument is currently False, but it will be changed to True in Numba 0.59.0. See https://numba.readthedocs.io/en/stable/reference/deprecation.html#deprecation-of-object-mode-fall-back-behaviour-when-using-jit for details.\n",
      "  def backtrace(trace: np.ndarray):\n",
      "100%|███████████████████████████████████████| 139M/139M [00:04<00:00, 35.9MiB/s]\n"
     ]
    }
   ],
   "source": [
    "import whisper\n",
    "\n",
    "model = whisper.load_model(\"base\").to('cuda')"
   ]
  },
  {
   "cell_type": "code",
   "execution_count": 5,
   "id": "bffa813b",
   "metadata": {},
   "outputs": [],
   "source": [
    "!mkdir whisper_predictions_dials"
   ]
  },
  {
   "cell_type": "code",
   "execution_count": 27,
   "id": "f055ac42",
   "metadata": {},
   "outputs": [
    {
     "data": {
      "application/vnd.jupyter.widget-view+json": {
       "model_id": "06f0de2dc4814163baa97590f15f7038",
       "version_major": 2,
       "version_minor": 0
      },
      "text/plain": [
       "  0%|          | 0/4828 [00:00<?, ?it/s]"
      ]
     },
     "metadata": {},
     "output_type": "display_data"
    },
    {
     "name": "stdout",
     "output_type": "stream",
     "text": [
      "No such file\n"
     ]
    }
   ],
   "source": [
    "path2vec_whisper = {}\n",
    "for file in tqdm(files):\n",
    "    try:\n",
    "        audio = whisper.load_audio(file)\n",
    "        audio = whisper.pad_or_trim(audio)\n",
    "        mel = whisper.log_mel_spectrogram(audio).to('cuda')\n",
    "        options = whisper.DecodingOptions(fp16=False)\n",
    "        result = whisper.decode(model, mel, options)\n",
    "        \n",
    "        filename = 'whisper_predictions_dials/' + file.replace('.wav', '.pth').replace('/', '_')\n",
    "        torch.save(result.audio_features, filename)\n",
    "        path2vec_whisper[file] = filename\n",
    "    except:\n",
    "        print('No such file')"
   ]
  },
  {
   "cell_type": "code",
   "execution_count": 29,
   "id": "27ec0d83",
   "metadata": {},
   "outputs": [
    {
     "data": {
      "application/vnd.jupyter.widget-view+json": {
       "model_id": "09b729dfa9944a8fb97c87f5b6c4313b",
       "version_major": 2,
       "version_minor": 0
      },
      "text/plain": [
       "  0%|          | 0/4827 [00:00<?, ?it/s]"
      ]
     },
     "metadata": {},
     "output_type": "display_data"
    }
   ],
   "source": [
    "X_whd = []\n",
    "Y_whd = []\n",
    "for item in tqdm(path2vec_whisper.items()):\n",
    "    vector = torch.load(item[1]).detach().tolist()\n",
    "    targets = df_last[df_last['filename'] == item[0]]\n",
    "    target = targets['corpus'].to_list()[0]\n",
    "    X_whd.append(sum(np.array(vector)))\n",
    "    Y_whd.append(target)"
   ]
  },
  {
   "cell_type": "code",
   "execution_count": 34,
   "id": "7f57cd6a-57fb-4583-b8df-e00a05692b68",
   "metadata": {
    "collapsed": true
   },
   "outputs": [
    {
     "name": "stdout",
     "output_type": "stream",
     "text": [
      "Learning rate set to 0.327303\n",
      "0:\tlearn: 1.1021081\ttotal: 127ms\tremaining: 25.2s\n",
      "1:\tlearn: 0.9604705\ttotal: 182ms\tremaining: 18s\n",
      "2:\tlearn: 0.8706982\ttotal: 241ms\tremaining: 15.8s\n",
      "3:\tlearn: 0.8111899\ttotal: 300ms\tremaining: 14.7s\n",
      "4:\tlearn: 0.7561574\ttotal: 358ms\tremaining: 14s\n",
      "5:\tlearn: 0.7199373\ttotal: 416ms\tremaining: 13.5s\n",
      "6:\tlearn: 0.6780176\ttotal: 474ms\tremaining: 13.1s\n",
      "7:\tlearn: 0.6473159\ttotal: 541ms\tremaining: 13s\n",
      "8:\tlearn: 0.6253043\ttotal: 602ms\tremaining: 12.8s\n",
      "9:\tlearn: 0.5962608\ttotal: 655ms\tremaining: 12.4s\n",
      "10:\tlearn: 0.5727451\ttotal: 712ms\tremaining: 12.2s\n",
      "11:\tlearn: 0.5531997\ttotal: 768ms\tremaining: 12s\n",
      "12:\tlearn: 0.5386488\ttotal: 827ms\tremaining: 11.9s\n",
      "13:\tlearn: 0.5288938\ttotal: 880ms\tremaining: 11.7s\n",
      "14:\tlearn: 0.5179633\ttotal: 937ms\tremaining: 11.6s\n",
      "15:\tlearn: 0.5024330\ttotal: 995ms\tremaining: 11.4s\n",
      "16:\tlearn: 0.4914934\ttotal: 1.05s\tremaining: 11.3s\n",
      "17:\tlearn: 0.4781673\ttotal: 1.11s\tremaining: 11.3s\n",
      "18:\tlearn: 0.4727188\ttotal: 1.17s\tremaining: 11.1s\n",
      "19:\tlearn: 0.4625149\ttotal: 1.23s\tremaining: 11.1s\n",
      "20:\tlearn: 0.4559266\ttotal: 1.29s\tremaining: 11s\n",
      "21:\tlearn: 0.4477716\ttotal: 1.35s\tremaining: 10.9s\n",
      "22:\tlearn: 0.4370439\ttotal: 1.41s\tremaining: 10.9s\n",
      "23:\tlearn: 0.4252777\ttotal: 1.47s\tremaining: 10.8s\n",
      "24:\tlearn: 0.4147860\ttotal: 1.53s\tremaining: 10.7s\n",
      "25:\tlearn: 0.4058965\ttotal: 1.59s\tremaining: 10.7s\n",
      "26:\tlearn: 0.3976018\ttotal: 1.65s\tremaining: 10.6s\n",
      "27:\tlearn: 0.3876314\ttotal: 1.71s\tremaining: 10.5s\n",
      "28:\tlearn: 0.3812806\ttotal: 1.77s\tremaining: 10.4s\n",
      "29:\tlearn: 0.3726591\ttotal: 1.83s\tremaining: 10.4s\n",
      "30:\tlearn: 0.3618553\ttotal: 1.88s\tremaining: 10.3s\n",
      "31:\tlearn: 0.3551784\ttotal: 1.94s\tremaining: 10.2s\n",
      "32:\tlearn: 0.3464172\ttotal: 2s\tremaining: 10.1s\n",
      "33:\tlearn: 0.3408081\ttotal: 2.05s\tremaining: 10s\n",
      "34:\tlearn: 0.3342781\ttotal: 2.11s\tremaining: 9.97s\n",
      "35:\tlearn: 0.3306421\ttotal: 2.17s\tremaining: 9.87s\n",
      "36:\tlearn: 0.3267407\ttotal: 2.22s\tremaining: 9.78s\n",
      "37:\tlearn: 0.3195072\ttotal: 2.28s\tremaining: 9.7s\n",
      "38:\tlearn: 0.3142314\ttotal: 2.33s\tremaining: 9.64s\n",
      "39:\tlearn: 0.3090947\ttotal: 2.39s\tremaining: 9.57s\n",
      "40:\tlearn: 0.3056816\ttotal: 2.45s\tremaining: 9.49s\n",
      "41:\tlearn: 0.3010180\ttotal: 2.51s\tremaining: 9.43s\n",
      "42:\tlearn: 0.2960892\ttotal: 2.56s\tremaining: 9.36s\n",
      "43:\tlearn: 0.2911710\ttotal: 2.62s\tremaining: 9.28s\n",
      "44:\tlearn: 0.2880925\ttotal: 2.67s\tremaining: 9.2s\n",
      "45:\tlearn: 0.2818223\ttotal: 2.74s\tremaining: 9.17s\n",
      "46:\tlearn: 0.2774634\ttotal: 2.8s\tremaining: 9.1s\n",
      "47:\tlearn: 0.2747680\ttotal: 2.85s\tremaining: 9.03s\n",
      "48:\tlearn: 0.2718809\ttotal: 2.91s\tremaining: 8.96s\n",
      "49:\tlearn: 0.2676823\ttotal: 2.96s\tremaining: 8.89s\n",
      "50:\tlearn: 0.2631578\ttotal: 3.03s\tremaining: 8.84s\n",
      "51:\tlearn: 0.2589965\ttotal: 3.08s\tremaining: 8.78s\n",
      "52:\tlearn: 0.2526766\ttotal: 3.14s\tremaining: 8.7s\n",
      "53:\tlearn: 0.2501458\ttotal: 3.19s\tremaining: 8.63s\n",
      "54:\tlearn: 0.2474460\ttotal: 3.25s\tremaining: 8.57s\n",
      "55:\tlearn: 0.2447459\ttotal: 3.31s\tremaining: 8.5s\n",
      "56:\tlearn: 0.2404521\ttotal: 3.37s\tremaining: 8.44s\n",
      "57:\tlearn: 0.2379157\ttotal: 3.43s\tremaining: 8.39s\n",
      "58:\tlearn: 0.2355489\ttotal: 3.48s\tremaining: 8.33s\n",
      "59:\tlearn: 0.2341183\ttotal: 3.54s\tremaining: 8.26s\n",
      "60:\tlearn: 0.2319423\ttotal: 3.59s\tremaining: 8.19s\n",
      "61:\tlearn: 0.2279900\ttotal: 3.65s\tremaining: 8.13s\n",
      "62:\tlearn: 0.2262135\ttotal: 3.71s\tremaining: 8.06s\n",
      "63:\tlearn: 0.2240350\ttotal: 3.76s\tremaining: 8s\n",
      "64:\tlearn: 0.2221580\ttotal: 3.82s\tremaining: 7.94s\n",
      "65:\tlearn: 0.2186117\ttotal: 3.88s\tremaining: 7.88s\n",
      "66:\tlearn: 0.2165748\ttotal: 3.93s\tremaining: 7.81s\n",
      "67:\tlearn: 0.2118525\ttotal: 3.99s\tremaining: 7.75s\n",
      "68:\tlearn: 0.2092384\ttotal: 4.05s\tremaining: 7.68s\n",
      "69:\tlearn: 0.2061789\ttotal: 4.11s\tremaining: 7.63s\n",
      "70:\tlearn: 0.2025753\ttotal: 4.16s\tremaining: 7.56s\n",
      "71:\tlearn: 0.2002791\ttotal: 4.22s\tremaining: 7.5s\n",
      "72:\tlearn: 0.1968013\ttotal: 4.28s\tremaining: 7.45s\n",
      "73:\tlearn: 0.1955099\ttotal: 4.34s\tremaining: 7.38s\n",
      "74:\tlearn: 0.1930928\ttotal: 4.39s\tremaining: 7.32s\n",
      "75:\tlearn: 0.1897527\ttotal: 4.45s\tremaining: 7.26s\n",
      "76:\tlearn: 0.1881239\ttotal: 4.5s\tremaining: 7.2s\n",
      "77:\tlearn: 0.1864482\ttotal: 4.56s\tremaining: 7.13s\n",
      "78:\tlearn: 0.1844943\ttotal: 4.61s\tremaining: 7.07s\n",
      "79:\tlearn: 0.1816350\ttotal: 4.67s\tremaining: 7.01s\n",
      "80:\tlearn: 0.1799039\ttotal: 4.73s\tremaining: 6.95s\n",
      "81:\tlearn: 0.1782615\ttotal: 4.79s\tremaining: 6.89s\n",
      "82:\tlearn: 0.1767873\ttotal: 4.85s\tremaining: 6.83s\n",
      "83:\tlearn: 0.1753373\ttotal: 4.9s\tremaining: 6.77s\n",
      "84:\tlearn: 0.1743566\ttotal: 4.96s\tremaining: 6.71s\n",
      "85:\tlearn: 0.1714675\ttotal: 5.02s\tremaining: 6.66s\n",
      "86:\tlearn: 0.1695777\ttotal: 5.08s\tremaining: 6.6s\n",
      "87:\tlearn: 0.1678016\ttotal: 5.14s\tremaining: 6.54s\n",
      "88:\tlearn: 0.1645050\ttotal: 5.2s\tremaining: 6.48s\n",
      "89:\tlearn: 0.1624616\ttotal: 5.25s\tremaining: 6.42s\n",
      "90:\tlearn: 0.1615058\ttotal: 5.31s\tremaining: 6.36s\n",
      "91:\tlearn: 0.1605684\ttotal: 5.36s\tremaining: 6.3s\n",
      "92:\tlearn: 0.1596855\ttotal: 5.43s\tremaining: 6.25s\n",
      "93:\tlearn: 0.1582473\ttotal: 5.48s\tremaining: 6.18s\n",
      "94:\tlearn: 0.1567162\ttotal: 5.54s\tremaining: 6.12s\n",
      "95:\tlearn: 0.1556720\ttotal: 5.6s\tremaining: 6.07s\n",
      "96:\tlearn: 0.1536325\ttotal: 5.66s\tremaining: 6.01s\n",
      "97:\tlearn: 0.1527752\ttotal: 5.72s\tremaining: 5.96s\n",
      "98:\tlearn: 0.1517543\ttotal: 5.78s\tremaining: 5.9s\n",
      "99:\tlearn: 0.1500576\ttotal: 5.84s\tremaining: 5.84s\n",
      "100:\tlearn: 0.1486302\ttotal: 5.9s\tremaining: 5.79s\n",
      "101:\tlearn: 0.1469934\ttotal: 5.96s\tremaining: 5.72s\n",
      "102:\tlearn: 0.1456346\ttotal: 6.02s\tremaining: 5.67s\n",
      "103:\tlearn: 0.1441421\ttotal: 6.08s\tremaining: 5.61s\n",
      "104:\tlearn: 0.1422780\ttotal: 6.13s\tremaining: 5.55s\n",
      "105:\tlearn: 0.1405301\ttotal: 6.19s\tremaining: 5.49s\n",
      "106:\tlearn: 0.1397199\ttotal: 6.25s\tremaining: 5.43s\n",
      "107:\tlearn: 0.1385940\ttotal: 6.31s\tremaining: 5.37s\n",
      "108:\tlearn: 0.1378343\ttotal: 6.37s\tremaining: 5.31s\n",
      "109:\tlearn: 0.1370288\ttotal: 6.43s\tremaining: 5.26s\n",
      "110:\tlearn: 0.1361816\ttotal: 6.48s\tremaining: 5.2s\n",
      "111:\tlearn: 0.1350408\ttotal: 6.54s\tremaining: 5.14s\n",
      "112:\tlearn: 0.1341242\ttotal: 6.6s\tremaining: 5.08s\n",
      "113:\tlearn: 0.1335916\ttotal: 6.66s\tremaining: 5.02s\n",
      "114:\tlearn: 0.1318818\ttotal: 6.72s\tremaining: 4.97s\n",
      "115:\tlearn: 0.1305270\ttotal: 6.78s\tremaining: 4.91s\n",
      "116:\tlearn: 0.1293033\ttotal: 6.83s\tremaining: 4.85s\n",
      "117:\tlearn: 0.1282931\ttotal: 6.89s\tremaining: 4.79s\n",
      "118:\tlearn: 0.1271106\ttotal: 6.94s\tremaining: 4.73s\n",
      "119:\tlearn: 0.1264349\ttotal: 7s\tremaining: 4.67s\n",
      "120:\tlearn: 0.1254826\ttotal: 7.06s\tremaining: 4.61s\n",
      "121:\tlearn: 0.1242124\ttotal: 7.12s\tremaining: 4.55s\n",
      "122:\tlearn: 0.1232903\ttotal: 7.17s\tremaining: 4.49s\n",
      "123:\tlearn: 0.1221750\ttotal: 7.23s\tremaining: 4.43s\n",
      "124:\tlearn: 0.1213315\ttotal: 7.29s\tremaining: 4.38s\n",
      "125:\tlearn: 0.1206272\ttotal: 7.34s\tremaining: 4.31s\n",
      "126:\tlearn: 0.1195332\ttotal: 7.4s\tremaining: 4.25s\n",
      "127:\tlearn: 0.1189015\ttotal: 7.46s\tremaining: 4.19s\n",
      "128:\tlearn: 0.1177778\ttotal: 7.52s\tremaining: 4.14s\n",
      "129:\tlearn: 0.1169196\ttotal: 7.57s\tremaining: 4.08s\n",
      "130:\tlearn: 0.1158020\ttotal: 7.63s\tremaining: 4.02s\n",
      "131:\tlearn: 0.1146995\ttotal: 7.69s\tremaining: 3.96s\n",
      "132:\tlearn: 0.1134292\ttotal: 7.75s\tremaining: 3.9s\n",
      "133:\tlearn: 0.1120153\ttotal: 7.8s\tremaining: 3.84s\n",
      "134:\tlearn: 0.1108844\ttotal: 7.86s\tremaining: 3.78s\n",
      "135:\tlearn: 0.1101107\ttotal: 7.92s\tremaining: 3.73s\n",
      "136:\tlearn: 0.1095322\ttotal: 7.98s\tremaining: 3.67s\n",
      "137:\tlearn: 0.1087681\ttotal: 8.03s\tremaining: 3.61s\n",
      "138:\tlearn: 0.1074632\ttotal: 8.09s\tremaining: 3.55s\n",
      "139:\tlearn: 0.1065322\ttotal: 8.14s\tremaining: 3.49s\n",
      "140:\tlearn: 0.1054227\ttotal: 8.2s\tremaining: 3.43s\n",
      "141:\tlearn: 0.1044554\ttotal: 8.26s\tremaining: 3.37s\n",
      "142:\tlearn: 0.1033245\ttotal: 8.32s\tremaining: 3.32s\n",
      "143:\tlearn: 0.1026157\ttotal: 8.38s\tremaining: 3.26s\n",
      "144:\tlearn: 0.1023383\ttotal: 8.43s\tremaining: 3.2s\n",
      "145:\tlearn: 0.1017046\ttotal: 8.49s\tremaining: 3.14s\n",
      "146:\tlearn: 0.1007573\ttotal: 8.54s\tremaining: 3.08s\n",
      "147:\tlearn: 0.1000417\ttotal: 8.61s\tremaining: 3.02s\n",
      "148:\tlearn: 0.0991443\ttotal: 8.66s\tremaining: 2.96s\n",
      "149:\tlearn: 0.0984095\ttotal: 8.72s\tremaining: 2.91s\n",
      "150:\tlearn: 0.0974478\ttotal: 8.78s\tremaining: 2.85s\n",
      "151:\tlearn: 0.0968186\ttotal: 8.83s\tremaining: 2.79s\n",
      "152:\tlearn: 0.0959908\ttotal: 8.89s\tremaining: 2.73s\n",
      "153:\tlearn: 0.0953053\ttotal: 8.95s\tremaining: 2.67s\n",
      "154:\tlearn: 0.0949829\ttotal: 9s\tremaining: 2.61s\n",
      "155:\tlearn: 0.0942197\ttotal: 9.05s\tremaining: 2.55s\n",
      "156:\tlearn: 0.0937409\ttotal: 9.12s\tremaining: 2.5s\n",
      "157:\tlearn: 0.0932805\ttotal: 9.18s\tremaining: 2.44s\n",
      "158:\tlearn: 0.0924868\ttotal: 9.23s\tremaining: 2.38s\n",
      "159:\tlearn: 0.0919074\ttotal: 9.29s\tremaining: 2.32s\n",
      "160:\tlearn: 0.0913286\ttotal: 9.35s\tremaining: 2.26s\n",
      "161:\tlearn: 0.0906871\ttotal: 9.41s\tremaining: 2.21s\n",
      "162:\tlearn: 0.0898999\ttotal: 9.47s\tremaining: 2.15s\n",
      "163:\tlearn: 0.0893183\ttotal: 9.53s\tremaining: 2.09s\n",
      "164:\tlearn: 0.0885536\ttotal: 9.59s\tremaining: 2.03s\n",
      "165:\tlearn: 0.0878751\ttotal: 9.64s\tremaining: 1.97s\n",
      "166:\tlearn: 0.0871689\ttotal: 9.7s\tremaining: 1.92s\n",
      "167:\tlearn: 0.0867901\ttotal: 9.75s\tremaining: 1.86s\n",
      "168:\tlearn: 0.0863457\ttotal: 9.82s\tremaining: 1.8s\n",
      "169:\tlearn: 0.0856975\ttotal: 9.89s\tremaining: 1.75s\n",
      "170:\tlearn: 0.0848790\ttotal: 9.95s\tremaining: 1.69s\n",
      "171:\tlearn: 0.0843489\ttotal: 10s\tremaining: 1.63s\n",
      "172:\tlearn: 0.0835679\ttotal: 10.1s\tremaining: 1.57s\n",
      "173:\tlearn: 0.0830573\ttotal: 10.2s\tremaining: 1.52s\n",
      "174:\tlearn: 0.0824668\ttotal: 10.2s\tremaining: 1.46s\n",
      "175:\tlearn: 0.0822594\ttotal: 10.3s\tremaining: 1.4s\n",
      "176:\tlearn: 0.0816892\ttotal: 10.4s\tremaining: 1.35s\n",
      "177:\tlearn: 0.0810638\ttotal: 10.4s\tremaining: 1.29s\n",
      "178:\tlearn: 0.0806819\ttotal: 10.5s\tremaining: 1.23s\n",
      "179:\tlearn: 0.0802675\ttotal: 10.6s\tremaining: 1.17s\n",
      "180:\tlearn: 0.0799500\ttotal: 10.6s\tremaining: 1.11s\n",
      "181:\tlearn: 0.0794192\ttotal: 10.7s\tremaining: 1.06s\n",
      "182:\tlearn: 0.0785783\ttotal: 10.8s\tremaining: 1s\n",
      "183:\tlearn: 0.0780817\ttotal: 10.8s\tremaining: 941ms\n",
      "184:\tlearn: 0.0774537\ttotal: 10.9s\tremaining: 884ms\n",
      "185:\tlearn: 0.0772150\ttotal: 11s\tremaining: 826ms\n",
      "186:\tlearn: 0.0766299\ttotal: 11s\tremaining: 767ms\n",
      "187:\tlearn: 0.0760037\ttotal: 11.1s\tremaining: 709ms\n",
      "188:\tlearn: 0.0756291\ttotal: 11.2s\tremaining: 651ms\n",
      "189:\tlearn: 0.0753995\ttotal: 11.2s\tremaining: 591ms\n",
      "190:\tlearn: 0.0748186\ttotal: 11.3s\tremaining: 533ms\n",
      "191:\tlearn: 0.0740528\ttotal: 11.4s\tremaining: 474ms\n",
      "192:\tlearn: 0.0735775\ttotal: 11.4s\tremaining: 415ms\n",
      "193:\tlearn: 0.0729842\ttotal: 11.5s\tremaining: 356ms\n",
      "194:\tlearn: 0.0725914\ttotal: 11.6s\tremaining: 297ms\n",
      "195:\tlearn: 0.0718865\ttotal: 11.6s\tremaining: 237ms\n",
      "196:\tlearn: 0.0713271\ttotal: 11.7s\tremaining: 178ms\n",
      "197:\tlearn: 0.0708567\ttotal: 11.8s\tremaining: 119ms\n",
      "198:\tlearn: 0.0706108\ttotal: 11.8s\tremaining: 59.5ms\n",
      "199:\tlearn: 0.0701673\ttotal: 11.9s\tremaining: 0us\n"
     ]
    }
   ],
   "source": [
    "X_train, X_test, y_train, y_test = train_test_split(X_whd, Y_whd, test_size=0.33, random_state=42)\n",
    "\n",
    "train_data = X_train\n",
    "train_labels = y_train\n",
    "\n",
    "model = CatBoostClassifier(iterations=200)\n",
    "model.fit(train_data, train_labels)\n",
    "\n",
    "y_pred = model.predict(X_test)"
   ]
  },
  {
   "cell_type": "code",
   "execution_count": 43,
   "id": "ce49f14b-93b3-413a-89e1-3c27892df906",
   "metadata": {},
   "outputs": [
    {
     "data": {
      "image/png": "[encoded data removed]",
      "text/plain": [
       "<Figure size 640x480 with 2 Axes>"
      ]
     },
     "metadata": {},
     "output_type": "display_data"
    },
    {
     "name": "stdout",
     "output_type": "stream",
     "text": [
      "0.8449466415568111\n",
      "0.8447011560922001\n"
     ]
    }
   ],
   "source": [
    "confusion_matrix = metrics.confusion_matrix(y_test, y_pred)\n",
    "\n",
    "cm_display = metrics.ConfusionMatrixDisplay(confusion_matrix = confusion_matrix)\n",
    "\n",
    "cm_display.plot()\n",
    "plt.show()\n",
    "print(accuracy_score(y_test, y_pred), f1_score(y_test, y_pred, average='macro'), sep='\\n')"
   ]
  },
  {
   "cell_type": "code",
   "execution_count": 44,
   "id": "8d85a31e-1e78-46d1-9644-2a3ff690de91",
   "metadata": {
    "collapsed": true
   },
   "outputs": [
    {
     "name": "stdout",
     "output_type": "stream",
     "text": [
      "Iteration 1, loss = 23.53813683\n",
      "Iteration 2, loss = 16.40984657\n",
      "Iteration 3, loss = 10.33994791\n",
      "Iteration 4, loss = 8.09689664\n",
      "Iteration 5, loss = 6.68980983\n",
      "Iteration 6, loss = 6.26731479\n",
      "Iteration 7, loss = 6.92162084\n",
      "Iteration 8, loss = 6.86529412\n",
      "Iteration 9, loss = 6.36470043\n",
      "Iteration 10, loss = 5.70301310\n",
      "Iteration 11, loss = 5.54898045\n",
      "Iteration 12, loss = 5.11022532\n",
      "Iteration 13, loss = 5.98775663\n",
      "Iteration 14, loss = 5.77806146\n",
      "Iteration 15, loss = 5.24301139\n",
      "Iteration 16, loss = 5.05516152\n",
      "Iteration 17, loss = 5.30957564\n",
      "Iteration 18, loss = 4.05004636\n",
      "Iteration 19, loss = 3.50514340\n",
      "Iteration 20, loss = 5.22059826\n",
      "Iteration 21, loss = 4.81640152\n",
      "Iteration 22, loss = 10.00784296\n",
      "Iteration 23, loss = 7.11647017\n",
      "Iteration 24, loss = 4.96708514\n",
      "Iteration 25, loss = 4.58173698\n",
      "Iteration 26, loss = 3.93361238\n",
      "Iteration 27, loss = 3.62814492\n",
      "Iteration 28, loss = 4.67317704\n",
      "Iteration 29, loss = 4.59111162\n",
      "Iteration 30, loss = 4.38450867\n",
      "Training loss did not improve more than tol=0.000100 for 10 consecutive epochs. Stopping.\n"
     ]
    },
    {
     "data": {
      "text/plain": [
       "0.8725674827369743"
      ]
     },
     "execution_count": 44,
     "metadata": {},
     "output_type": "execute_result"
    }
   ],
   "source": [
    "clf_whd = MLPClassifier(hidden_layer_sizes=(512,), random_state=1, max_iter=300, verbose=True).fit(X_train, y_train)\n",
    "\n",
    "clf_whd.predict(X_test)\n",
    "clf_whd.score(X_test, y_test)"
   ]
  },
  {
   "cell_type": "markdown",
   "id": "2b7a2d37-7b2d-4231-a123-cbc633d21e60",
   "metadata": {
    "jp-MarkdownHeadingCollapsed": true
   },
   "source": [
    "## Layers"
   ]
  },
  {
   "cell_type": "code",
   "execution_count": 17,
   "id": "7b1f25ba-5cc1-443d-b660-37c4a82a6271",
   "metadata": {},
   "outputs": [],
   "source": [
    "o = model_w2v(vectors, output_hidden_states=True)"
   ]
  },
  {
   "cell_type": "code",
   "execution_count": 20,
   "id": "736e0f22-53e5-4df4-9a8c-39fa413f5605",
   "metadata": {},
   "outputs": [],
   "source": [
    "ys = df_last['corpus'].to_list()"
   ]
  },
  {
   "cell_type": "code",
   "execution_count": 23,
   "id": "aefa6fc1-ab85-4843-b987-b065419e7aae",
   "metadata": {},
   "outputs": [],
   "source": [
    "def for_each(tensor, ys):\n",
    "    X_train, X_test, y_train, y_test = train_test_split(tensor, ys, test_size=0.33, random_state=42)\n",
    "\n",
    "    train_data = X_train\n",
    "    train_labels = y_train\n",
    "\n",
    "    model = CatBoostClassifier(iterations=200, task_type=\"GPU\",\n",
    "                           devices='0', verbose=False)\n",
    "    model.fit(train_data, train_labels)\n",
    "\n",
    "    y_pred = model.predict(X_test)\n",
    "    f_score = f1_score(y_test, y_pred, average='macro')\n",
    "    print(f_score)\n",
    "    return f_score"
   ]
  },
  {
   "cell_type": "code",
   "execution_count": 24,
   "id": "631a5c24-006e-4df9-a3f5-e45c826d97b3",
   "metadata": {
    "scrolled": true
   },
   "outputs": [
    {
     "data": {
      "application/vnd.jupyter.widget-view+json": {
       "model_id": "4801499f09a64bc08d97dc4b90879bc3",
       "version_major": 2,
       "version_minor": 0
      },
      "text/plain": [
       "  0%|          | 0/25 [00:00<?, ?it/s]"
      ]
     },
     "metadata": {},
     "output_type": "display_data"
    },
    {
     "name": "stdout",
     "output_type": "stream",
     "text": [
      "LAYER: 1\n",
      "0.7310413737996224\n",
      "Result on layer 1: 0.7310413737996224\n",
      "----------\n",
      "LAYER: 2\n",
      "0.7252591440123041\n",
      "Result on layer 2: 0.7252591440123041\n",
      "----------\n",
      "LAYER: 3\n",
      "0.7084645373300836\n",
      "Result on layer 3: 0.7084645373300836\n",
      "----------\n",
      "LAYER: 4\n",
      "0.6954856174816803\n",
      "Result on layer 4: 0.6954856174816803\n",
      "----------\n",
      "LAYER: 5\n",
      "0.7204845779217296\n",
      "Result on layer 5: 0.7204845779217296\n",
      "----------\n",
      "LAYER: 6\n",
      "0.691331170736205\n",
      "Result on layer 6: 0.691331170736205\n",
      "----------\n",
      "LAYER: 7\n",
      "0.6892166904292183\n",
      "Result on layer 7: 0.6892166904292183\n",
      "----------\n",
      "LAYER: 8\n",
      "0.653625220264392\n",
      "Result on layer 8: 0.653625220264392\n",
      "----------\n",
      "LAYER: 9\n",
      "0.6863528727971233\n",
      "Result on layer 9: 0.6863528727971233\n",
      "----------\n",
      "LAYER: 10\n",
      "0.6501539715994165\n",
      "Result on layer 10: 0.6501539715994165\n",
      "----------\n",
      "LAYER: 11\n",
      "0.6612683132139305\n",
      "Result on layer 11: 0.6612683132139305\n",
      "----------\n",
      "LAYER: 12\n",
      "0.6290134136219768\n",
      "Result on layer 12: 0.6290134136219768\n",
      "----------\n",
      "LAYER: 13\n",
      "0.6449607167266236\n",
      "Result on layer 13: 0.6449607167266236\n",
      "----------\n",
      "LAYER: 14\n",
      "0.6372013893016077\n",
      "Result on layer 14: 0.6372013893016077\n",
      "----------\n",
      "LAYER: 15\n",
      "0.6339760541897919\n",
      "Result on layer 15: 0.6339760541897919\n",
      "----------\n",
      "LAYER: 16\n",
      "0.654259324102158\n",
      "Result on layer 16: 0.654259324102158\n",
      "----------\n",
      "LAYER: 17\n",
      "0.6463188930269599\n",
      "Result on layer 17: 0.6463188930269599\n",
      "----------\n",
      "LAYER: 18\n",
      "0.6534824548599878\n",
      "Result on layer 18: 0.6534824548599878\n",
      "----------\n",
      "LAYER: 19\n",
      "0.645598666043564\n",
      "Result on layer 19: 0.645598666043564\n",
      "----------\n",
      "LAYER: 20\n",
      "0.6802289252338167\n",
      "Result on layer 20: 0.6802289252338167\n",
      "----------\n",
      "LAYER: 21\n",
      "0.6786609001949239\n",
      "Result on layer 21: 0.6786609001949239\n",
      "----------\n",
      "LAYER: 22\n",
      "0.6867477838041556\n",
      "Result on layer 22: 0.6867477838041556\n",
      "----------\n",
      "LAYER: 23\n",
      "0.6094180249502945\n",
      "Result on layer 23: 0.6094180249502945\n",
      "----------\n",
      "LAYER: 24\n",
      "0.60633056279608\n",
      "Result on layer 24: 0.60633056279608\n",
      "----------\n",
      "LAYER: 25\n",
      "0.6560821898884268\n",
      "Result on layer 25: 0.6560821898884268\n",
      "----------\n"
     ]
    }
   ],
   "source": [
    "results = {}\n",
    "layers = o['hidden_states']\n",
    "for i in tqdm(range(len(layers))):\n",
    "    print(f'LAYER: {i+1}')\n",
    "    reshaped = torch.reshape(layers[i], (1228, 7*1024)).tolist()\n",
    "    resultic = for_each(reshaped, ys)\n",
    "    results[i+1] = resultic\n",
    "    print(f'Result on layer {i+1}: {resultic}')\n",
    "    print('-'*10)"
   ]
  },
  {
   "cell_type": "code",
   "execution_count": 28,
   "id": "2f659042-6546-4f3d-a36d-1a0c37bd0b32",
   "metadata": {
    "collapsed": true
   },
   "outputs": [
    {
     "data": {
      "text/plain": [
       "{1: 0.7310413737996224,\n",
       " 2: 0.7252591440123041,\n",
       " 3: 0.7084645373300836,\n",
       " 4: 0.6954856174816803,\n",
       " 5: 0.7204845779217296,\n",
       " 6: 0.691331170736205,\n",
       " 7: 0.6892166904292183,\n",
       " 8: 0.653625220264392,\n",
       " 9: 0.6863528727971233,\n",
       " 10: 0.6501539715994165,\n",
       " 11: 0.6612683132139305,\n",
       " 12: 0.6290134136219768,\n",
       " 13: 0.6449607167266236,\n",
       " 14: 0.6372013893016077,\n",
       " 15: 0.6339760541897919,\n",
       " 16: 0.654259324102158,\n",
       " 17: 0.6463188930269599,\n",
       " 18: 0.6534824548599878,\n",
       " 19: 0.645598666043564,\n",
       " 20: 0.6802289252338167,\n",
       " 21: 0.6786609001949239,\n",
       " 22: 0.6867477838041556,\n",
       " 23: 0.6094180249502945,\n",
       " 24: 0.60633056279608,\n",
       " 25: 0.6560821898884268}"
      ]
     },
     "execution_count": 28,
     "metadata": {},
     "output_type": "execute_result"
    }
   ],
   "source": [
    "results"
   ]
  },
  {
   "cell_type": "code",
   "execution_count": 32,
   "id": "bf06429a-c9d5-4ba7-a5d3-40a3eac2b05d",
   "metadata": {},
   "outputs": [],
   "source": [
    "o_ft = model_ft(vectors_ft, output_hidden_states=True)"
   ]
  },
  {
   "cell_type": "code",
   "execution_count": 33,
   "id": "509e52ae-64e4-43fa-9b94-f6651394275e",
   "metadata": {
    "collapsed": true
   },
   "outputs": [
    {
     "data": {
      "application/vnd.jupyter.widget-view+json": {
       "model_id": "1454f88872444303beb1e7d448757f61",
       "version_major": 2,
       "version_minor": 0
      },
      "text/plain": [
       "  0%|          | 0/25 [00:00<?, ?it/s]"
      ]
     },
     "metadata": {},
     "output_type": "display_data"
    },
    {
     "name": "stdout",
     "output_type": "stream",
     "text": [
      "LAYER: 1\n",
      "0.7404827747454307\n",
      "Result on layer 1: 0.7404827747454307\n",
      "----------\n",
      "LAYER: 2\n",
      "0.7273356407609679\n",
      "Result on layer 2: 0.7273356407609679\n",
      "----------\n",
      "LAYER: 3\n",
      "0.7135129409463941\n",
      "Result on layer 3: 0.7135129409463941\n",
      "----------\n",
      "LAYER: 4\n",
      "0.6796781119766346\n",
      "Result on layer 4: 0.6796781119766346\n",
      "----------\n",
      "LAYER: 5\n",
      "0.7003028329148704\n",
      "Result on layer 5: 0.7003028329148704\n",
      "----------\n",
      "LAYER: 6\n",
      "0.6878255338996329\n",
      "Result on layer 6: 0.6878255338996329\n",
      "----------\n",
      "LAYER: 7\n",
      "0.6834454390574517\n",
      "Result on layer 7: 0.6834454390574517\n",
      "----------\n",
      "LAYER: 8\n",
      "0.6755773754056418\n",
      "Result on layer 8: 0.6755773754056418\n",
      "----------\n",
      "LAYER: 9\n",
      "0.6535704690272235\n",
      "Result on layer 9: 0.6535704690272235\n",
      "----------\n",
      "LAYER: 10\n",
      "0.6273594664899013\n",
      "Result on layer 10: 0.6273594664899013\n",
      "----------\n",
      "LAYER: 11\n",
      "0.6306182740200947\n",
      "Result on layer 11: 0.6306182740200947\n",
      "----------\n",
      "LAYER: 12\n",
      "0.6281262722172316\n",
      "Result on layer 12: 0.6281262722172316\n",
      "----------\n",
      "LAYER: 13\n",
      "0.6203109124161755\n",
      "Result on layer 13: 0.6203109124161755\n",
      "----------\n",
      "LAYER: 14\n",
      "0.6234920233275496\n",
      "Result on layer 14: 0.6234920233275496\n",
      "----------\n",
      "LAYER: 15\n",
      "0.6342084464713491\n",
      "Result on layer 15: 0.6342084464713491\n",
      "----------\n",
      "LAYER: 16\n",
      "0.6202647938567977\n",
      "Result on layer 16: 0.6202647938567977\n",
      "----------\n",
      "LAYER: 17\n",
      "0.6000363608421104\n",
      "Result on layer 17: 0.6000363608421104\n",
      "----------\n",
      "LAYER: 18\n",
      "0.6301106737111088\n",
      "Result on layer 18: 0.6301106737111088\n",
      "----------\n",
      "LAYER: 19\n",
      "0.6257562138919239\n",
      "Result on layer 19: 0.6257562138919239\n",
      "----------\n",
      "LAYER: 20\n",
      "0.5705374895130864\n",
      "Result on layer 20: 0.5705374895130864\n",
      "----------\n",
      "LAYER: 21\n",
      "0.5594917012063675\n",
      "Result on layer 21: 0.5594917012063675\n",
      "----------\n",
      "LAYER: 22\n",
      "0.5601006879822672\n",
      "Result on layer 22: 0.5601006879822672\n",
      "----------\n",
      "LAYER: 23\n",
      "0.5478886451806344\n",
      "Result on layer 23: 0.5478886451806344\n",
      "----------\n",
      "LAYER: 24\n",
      "0.5454340246912044\n",
      "Result on layer 24: 0.5454340246912044\n",
      "----------\n",
      "LAYER: 25\n",
      "0.5409260184918929\n",
      "Result on layer 25: 0.5409260184918929\n",
      "----------\n"
     ]
    }
   ],
   "source": [
    "results = {}\n",
    "layers = o_ft['hidden_states']\n",
    "for i in tqdm(range(len(layers))):\n",
    "    print(f'LAYER: {i+1}')\n",
    "    reshaped = torch.reshape(layers[i], (1228, 7*1024)).tolist()\n",
    "    resultic = for_each(reshaped, ys)\n",
    "    results[i+1] = resultic\n",
    "    print(f'Result on layer {i+1}: {resultic}')\n",
    "    print('-'*10)"
   ]
  },
  {
   "cell_type": "code",
   "execution_count": 34,
   "id": "c67257ad-b776-426f-b59b-5bc9ddcb2362",
   "metadata": {
    "collapsed": true
   },
   "outputs": [
    {
     "data": {
      "text/plain": [
       "{1: 0.7404827747454307,\n",
       " 2: 0.7273356407609679,\n",
       " 3: 0.7135129409463941,\n",
       " 4: 0.6796781119766346,\n",
       " 5: 0.7003028329148704,\n",
       " 6: 0.6878255338996329,\n",
       " 7: 0.6834454390574517,\n",
       " 8: 0.6755773754056418,\n",
       " 9: 0.6535704690272235,\n",
       " 10: 0.6273594664899013,\n",
       " 11: 0.6306182740200947,\n",
       " 12: 0.6281262722172316,\n",
       " 13: 0.6203109124161755,\n",
       " 14: 0.6234920233275496,\n",
       " 15: 0.6342084464713491,\n",
       " 16: 0.6202647938567977,\n",
       " 17: 0.6000363608421104,\n",
       " 18: 0.6301106737111088,\n",
       " 19: 0.6257562138919239,\n",
       " 20: 0.5705374895130864,\n",
       " 21: 0.5594917012063675,\n",
       " 22: 0.5601006879822672,\n",
       " 23: 0.5478886451806344,\n",
       " 24: 0.5454340246912044,\n",
       " 25: 0.5409260184918929}"
      ]
     },
     "execution_count": 34,
     "metadata": {},
     "output_type": "execute_result"
    }
   ],
   "source": [
    "results"
   ]
  },
  {
   "cell_type": "code",
   "execution_count": null,
   "id": "1a8b6e41-ffad-4691-83d9-28f5bc9ea8d5",
   "metadata": {},
   "outputs": [],
   "source": []
  }
 ],
 "metadata": {
  "kernelspec": {
   "display_name": "Python 3 (ipykernel)",
   "language": "python",
   "name": "python3"
  },
  "language_info": {
   "codemirror_mode": {
    "name": "ipython",
    "version": 3
   },
   "file_extension": ".py",
   "mimetype": "text/x-python",
   "name": "python",
   "nbconvert_exporter": "python",
   "pygments_lexer": "ipython3",
   "version": "3.10.9"
  }
 },
 "nbformat": 4,
 "nbformat_minor": 5
}
