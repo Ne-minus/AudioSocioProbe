{
 "cells": [
  {
   "cell_type": "code",
   "execution_count": null,
   "id": "566f88e2",
   "metadata": {
    "scrolled": false
   },
   "outputs": [],
   "source": [
    "import sqlite3\n",
    "from bs4 import BeautifulSoup\n",
    "import re\n",
    "from fake_useragent import UserAgent\n",
    "import requests\n",
    "from pprint import pprint\n",
    "import wget\n",
    "import pandas as pd\n",
    "import json\n",
    "import zipfile\n",
    "import os\n",
    "import ffmpeg"
   ]
  },
  {
   "cell_type": "code",
   "execution_count": null,
   "id": "fbd86bf8",
   "metadata": {},
   "outputs": [],
   "source": [
    "! pip install ffmpeg"
   ]
  },
  {
   "cell_type": "code",
   "execution_count": null,
   "id": "8cb10afd",
   "metadata": {},
   "outputs": [],
   "source": [
    "session = requests.session()"
   ]
  },
  {
   "cell_type": "code",
   "execution_count": null,
   "id": "d35d898e",
   "metadata": {},
   "outputs": [],
   "source": [
    "ua = UserAgent(verify_ssl=False)"
   ]
  },
  {
   "cell_type": "code",
   "execution_count": null,
   "id": "90fd5b95",
   "metadata": {},
   "outputs": [],
   "source": [
    "corpora = ['don_rnd', 'opochka', 'keba']\n",
    "links = []\n",
    "parsed_pages = {}\n",
    "for corpus in corpora:\n",
    "    helper = []\n",
    "    url = f'http://lingconlab.ru/{corpus}/files_html/'\n",
    "    req = session.get(url, headers={'User-Agent': ua.random})\n",
    "    soup = BeautifulSoup(req.text, \"html.parser\")\n",
    "    for i in soup.findAll('a', attrs={'href': re.compile(\".html$\")}):\n",
    "        helper.append(url+i.get('href'))\n",
    "    links.extend(helper[:3])\n",
    "    parsed_pages[corpus] = helper[:3]"
   ]
  },
  {
   "cell_type": "code",
   "execution_count": null,
   "id": "c50f04bd",
   "metadata": {},
   "outputs": [],
   "source": [
    "!mkdir audio_files"
   ]
  },
  {
   "cell_type": "code",
   "execution_count": null,
   "id": "278da12f",
   "metadata": {},
   "outputs": [],
   "source": [
    "def get_audio_and_meta(corpus, parsed_links, info):\n",
    "    for informant in parsed_links:      \n",
    "        req2 = session.get(informant, headers={'User-Agent': ua.random})\n",
    "        req2.encoding = 'utf8'\n",
    "        soup2 = BeautifulSoup(req2.text, \"html.parser\")\n",
    "        flag = ''\n",
    "        for i in soup2.findAll('a', attrs={'href': re.compile(\"javascript:play\")}):\n",
    "            if corpus == 'opochka':\n",
    "                text = i.previous_sibling.previous_sibling.previous_sibling\n",
    "            else:\n",
    "                text = i.previous_sibling\n",
    "            get_b = i.find_previous_sibling('b').text\n",
    "            id_full =  i.get('href').strip(\"javascript:play_sound('\").strip(\"');\")\n",
    "            download_link = f'http://lingconlab.ru/{corpus}/OUT/' + id_full + '.wav'\n",
    "            filename = 'audio_files/' + id_full + '.wav'\n",
    "            #text = i.previous_sibling\n",
    "            id_inf = id_full.split('-')\n",
    "            inf, start, end = id_inf[0], id_inf[1], id_inf[2]\n",
    "            if get_b:\n",
    "                flag = str(get_b).replace(':', '')\n",
    "            info[id_full] = {'informant': flag, 'start': int(start) / 1000, 'end': int(end) / 1000, \n",
    "                             'filename': filename, 'corpus': corpus, 'text': text, 'gender': '', 'age': ''}\n",
    "\n",
    "            try:\n",
    "                resp = wget.download(download_link, filename)\n",
    "                print('written')\n",
    "            except:\n",
    "                print(download_link)\n",
    "    return info"
   ]
  },
  {
   "cell_type": "code",
   "execution_count": null,
   "id": "be54907c",
   "metadata": {},
   "outputs": [],
   "source": [
    "info = {}\n",
    "for corpus in parsed_pages:\n",
    "    get_audio_and_meta(corpus, parsed_pages[corpus], info)"
   ]
  },
  {
   "cell_type": "markdown",
   "id": "ddd35308",
   "metadata": {},
   "source": [
    "Донские - 6200\n",
    "Опочка - 2600\n",
    "Кеба - 1500"
   ]
  },
  {
   "cell_type": "code",
   "execution_count": null,
   "id": "e766fb00",
   "metadata": {
    "scrolled": false
   },
   "outputs": [],
   "source": [
    "df = pd.DataFrame.from_dict(info, orient='index')"
   ]
  },
  {
   "cell_type": "code",
   "execution_count": null,
   "id": "24d7c69a",
   "metadata": {},
   "outputs": [],
   "source": [
    "df['informant'] = df['informant'].str.strip(' ')"
   ]
  },
  {
   "cell_type": "code",
   "execution_count": null,
   "id": "5a6c71b2",
   "metadata": {},
   "outputs": [],
   "source": [
    "def get_corpus(informant, corpus):\n",
    "    if 'Interviewer' in informant:\n",
    "        corpus = 'standart'\n",
    "    return corpus"
   ]
  },
  {
   "cell_type": "code",
   "execution_count": null,
   "id": "d8c7996c",
   "metadata": {},
   "outputs": [],
   "source": [
    "df['corpus'] = df.apply(lambda x: get_corpus(x['informant'], x['corpus']), axis=1)"
   ]
  },
  {
   "cell_type": "code",
   "execution_count": null,
   "id": "fdf7515a",
   "metadata": {
    "scrolled": true
   },
   "outputs": [],
   "source": [
    "df"
   ]
  },
  {
   "cell_type": "code",
   "execution_count": null,
   "id": "2510a133",
   "metadata": {},
   "outputs": [],
   "source": [
    "df.to_csv('data.csv')"
   ]
  },
  {
   "cell_type": "markdown",
   "id": "accb111b",
   "metadata": {},
   "source": [
    "## Опочка\n",
    "1. Фонетика: яканье, у --> ъ в заударном слоге, дзеканье (т', д' --> тс', дз')\n",
    "2. Морфология: повелительное наклонение -- бежи, бежите, личное метоимение 3л ед.ч --> йон, йону\n",
    "## Донские\n",
    "1. Фонетика: аканье, \"доришь, котишь, плотишь\"\n",
    "2. Морфология: средний род --> муж или жен"
   ]
  },
  {
   "cell_type": "markdown",
   "id": "8aef90dc",
   "metadata": {},
   "source": [
    "## Стандартный русский"
   ]
  },
  {
   "cell_type": "code",
   "execution_count": null,
   "id": "cd662394",
   "metadata": {},
   "outputs": [],
   "source": [
    "page = 'http://spokencorpora.ru/showcorpus.py?dir=01life'"
   ]
  },
  {
   "cell_type": "code",
   "execution_count": null,
   "id": "c9919dc1",
   "metadata": {},
   "outputs": [],
   "source": [
    "page_parsed = session.get(page, headers={'User-Agent': ua.random})\n",
    "page_parsed.encoding = 'utf8'\n",
    "soup3 = BeautifulSoup(page_parsed.text, \"html.parser\")"
   ]
  },
  {
   "cell_type": "code",
   "execution_count": null,
   "id": "239dfb0b",
   "metadata": {},
   "outputs": [],
   "source": [
    "get_metas = soup3.findAll('script', attrs={'type': 'text/javascript'})[-1].text"
   ]
  },
  {
   "cell_type": "code",
   "execution_count": null,
   "id": "28b9eddd",
   "metadata": {},
   "outputs": [],
   "source": [
    "!mkdir standart"
   ]
  },
  {
   "cell_type": "code",
   "execution_count": null,
   "id": "e2af74ce",
   "metadata": {},
   "outputs": [],
   "source": [
    "meta_data = json.loads(re.search(\"datastr: \\\\'(.+?)\\\\'\", get_metas).group(1))"
   ]
  },
  {
   "cell_type": "code",
   "execution_count": null,
   "id": "0358e51e",
   "metadata": {},
   "outputs": [],
   "source": [
    "normal_way = {}\n",
    "for i in meta_data['rows']:\n",
    "    name = i['cell'][0]\n",
    "    if i['cell'][1] == 'Ж':\n",
    "        gender = 'f'\n",
    "    else:\n",
    "        gender = 'm'\n",
    "    download_link = f'http://spokencorpora.ru/showtrans.py?file=01life/{name}'\n",
    "    normal_way[i['cell'][0]] = {'informant': i['cell'][0], 'start': 0, 'end': 0, 'filename': '', \n",
    "                                'corpus': 'standart', 'text': '', 'gender': gender, 'age': i['cell'][2] }"
   ]
  },
  {
   "cell_type": "code",
   "execution_count": null,
   "id": "bb593865",
   "metadata": {},
   "outputs": [],
   "source": [
    "for i in os.listdir('./standart'):\n",
    "    if i.endswith('.zip'):\n",
    "        with zipfile.ZipFile(f'./standart/{i}', 'r') as zip_ref:\n",
    "            zip_ref.extractall('./standart')"
   ]
  },
  {
   "cell_type": "code",
   "execution_count": null,
   "id": "a424d110",
   "metadata": {},
   "outputs": [],
   "source": [
    "! rm ./standart/*.zip"
   ]
  },
  {
   "cell_type": "code",
   "execution_count": null,
   "id": "ccfdcb29",
   "metadata": {},
   "outputs": [],
   "source": [
    "!pip install speach"
   ]
  },
  {
   "cell_type": "code",
   "execution_count": null,
   "id": "42bd6dab",
   "metadata": {},
   "outputs": [],
   "source": [
    "from speach import elan"
   ]
  },
  {
   "cell_type": "code",
   "execution_count": null,
   "id": "cee61150",
   "metadata": {},
   "outputs": [],
   "source": [
    "eaf = elan.read_eaf('./standart/Sib_01-f.eaf')"
   ]
  },
  {
   "cell_type": "code",
   "execution_count": null,
   "id": "5bf0f80c",
   "metadata": {},
   "outputs": [],
   "source": [
    "!mkdir trimmed"
   ]
  },
  {
   "cell_type": "code",
   "execution_count": null,
   "id": "991acc18",
   "metadata": {},
   "outputs": [],
   "source": [
    "again = {}\n",
    "regex = re.compile('[^a-zA-Z]')\n",
    "for i in normal_way:\n",
    "    eaf = elan.read_eaf(f'./standart/{i}.eaf')\n",
    "    gender = normal_way[i]['gender']\n",
    "    age = normal_way[i]['age']\n",
    "    audiofile_path = f'./standart/{i}.wav'\n",
    "    for j in eaf['Text']:\n",
    "        start, end, text = j.from_ts.value / 1000, j.to_ts.value / 1000, j.text\n",
    "        initial = f'{i}_{start}_{end}'\n",
    "        filename = f'./trimmed/{initial}.wav'\n",
    "        again[initial] = {'informant': i, 'start': start, 'end': end, 'filename': filename, \n",
    "                                'corpus': 'standart', 'text': text, 'gender': gender, 'age': age}\n",
    "        \n",
    "        !ffmpeg -i {audiofile_path} -ss {str(start)} -to {str(end)} -ar 16000 {filename}"
   ]
  },
  {
   "cell_type": "code",
   "execution_count": null,
   "id": "91bb9377",
   "metadata": {},
   "outputs": [],
   "source": [
    "df2 = pd.DataFrame.from_dict(again, orient='index')\n",
    "df2.to_csv('standart_data.csv')"
   ]
  },
  {
   "cell_type": "code",
   "execution_count": null,
   "id": "16d0c0ca",
   "metadata": {
    "scrolled": true
   },
   "outputs": [],
   "source": [
    "! zip -r audio_files.zip audio_files"
   ]
  },
  {
   "cell_type": "code",
   "execution_count": null,
   "id": "90b86824",
   "metadata": {},
   "outputs": [],
   "source": [
    "! zip -r trimmed.zip trimmed"
   ]
  },
  {
   "cell_type": "code",
   "execution_count": null,
   "id": "ed3765f3",
   "metadata": {},
   "outputs": [],
   "source": [
    "!zip all_data.zip audio_files.zip trimmed.zip standart_data.csv data.csv"
   ]
  },
  {
   "cell_type": "code",
   "execution_count": null,
   "id": "a28c6a00",
   "metadata": {},
   "outputs": [],
   "source": []
  }
 ],
 "metadata": {
  "kernelspec": {
   "display_name": "Python 3 (ipykernel)",
   "language": "python",
   "name": "python3"
  },
  "language_info": {
   "codemirror_mode": {
    "name": "ipython",
    "version": 3
   },
   "file_extension": ".py",
   "mimetype": "text/x-python",
   "name": "python",
   "nbconvert_exporter": "python",
   "pygments_lexer": "ipython3",
   "version": "3.10.9"
  }
 },
 "nbformat": 4,
 "nbformat_minor": 5
}
